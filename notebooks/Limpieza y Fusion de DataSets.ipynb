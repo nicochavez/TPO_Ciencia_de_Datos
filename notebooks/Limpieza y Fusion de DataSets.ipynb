{
 "cells": [
  {
   "cell_type": "code",
   "execution_count": 3,
   "metadata": {
    "colab": {
     "base_uri": "https://localhost:8080/"
    },
    "executionInfo": {
     "elapsed": 31194,
     "status": "ok",
     "timestamp": 1730640783020,
     "user": {
      "displayName": "Ramiro Farfañuk",
      "userId": "14188278688468724230"
     },
     "user_tz": 180
    },
    "id": "PlUDF8HDOm5z",
    "outputId": "174b2d8a-482b-4d34-9c74-142c68dd9b11"
   },
   "outputs": [],
   "source": [
    "import pandas as pd\n",
    "import numpy as np\n",
    "from sklearn.linear_model import SGDClassifier\n",
    "from sklearn.linear_model import LogisticRegression\n",
    "from sklearn.svm import LinearSVC\n",
    "from sklearn.model_selection import train_test_split\n",
    "from sklearn.model_selection import GridSearchCV\n",
    "from sklearn.model_selection import cross_val_score\n",
    "from sklearn import metrics\n",
    "\n",
    "\n"
   ]
  },
  {
   "cell_type": "markdown",
   "metadata": {
    "id": "1M6AQoaoZVC2"
   },
   "source": []
  },
  {
   "cell_type": "code",
   "execution_count": 5,
   "metadata": {
    "id": "MoK7D5m1ZVWy"
   },
   "outputs": [],
   "source": [
    "data_set = pd.read_csv('../DataSets/web-page-phishing.csv')\n",
    "\n",
    "dfWebPh = pd.DataFrame(data_set)\n",
    "\n",
    "\n",
    "data_set3 = pd.read_csv('../DataSets/PhiUSIIL_Phishing_URL_Dataset.csv')\n",
    "\n",
    "dfWebPh3 = pd.DataFrame(data_set3)\n",
    "\n",
    "data_set2 = pd.read_csv('../DataSets/dataset_full_phishing.csv')\n",
    "\n",
    "dfWebPh2 = pd.DataFrame(data_set2)\n",
    "\n",
    "data_set4 = pd.read_csv('../DataSets/URL dataset.csv')\n",
    "\n",
    "dfWebPh4 = pd.DataFrame(data_set4)"
   ]
  },
  {
   "cell_type": "markdown",
   "metadata": {
    "id": "Dd6TW_SlcE9N"
   },
   "source": []
  },
  {
   "cell_type": "code",
   "execution_count": null,
   "metadata": {
    "colab": {
     "base_uri": "https://localhost:8080/"
    },
    "executionInfo": {
     "elapsed": 306,
     "status": "ok",
     "timestamp": 1730572375277,
     "user": {
      "displayName": "Ramiro Farfañuk",
      "userId": "14188278688468724230"
     },
     "user_tz": 180
    },
    "id": "gZoBV3RbcFI3",
    "outputId": "3947e4cf-7ece-40ba-d151-1ecacfe4765c"
   },
   "outputs": [
    {
     "name": "stdout",
     "output_type": "stream",
     "text": [
      "Número de Duplicados:  78186\n"
     ]
    }
   ],
   "source": [
    "print(dfWebPh.info())\n",
    "print(dfWebPh.head())\n",
    "duplicated = dfWebPh.duplicated()\n",
    "print(\"Número de Duplicados: \", duplicated.sum())"
   ]
  },
  {
   "cell_type": "code",
   "execution_count": null,
   "metadata": {
    "colab": {
     "base_uri": "https://localhost:8080/"
    },
    "executionInfo": {
     "elapsed": 322,
     "status": "ok",
     "timestamp": 1730573478871,
     "user": {
      "displayName": "Ramiro Farfañuk",
      "userId": "14188278688468724230"
     },
     "user_tz": 180
    },
    "id": "OgxzYUFzMhMt",
    "outputId": "68ae78dd-14c5-4a97-fd3a-cf2e2018427a"
   },
   "outputs": [
    {
     "name": "stdout",
     "output_type": "stream",
     "text": [
      "<class 'pandas.core.frame.DataFrame'>\n",
      "RangeIndex: 450176 entries, 0 to 450175\n",
      "Data columns (total 2 columns):\n",
      " #   Column  Non-Null Count   Dtype \n",
      "---  ------  --------------   ----- \n",
      " 0   url     450176 non-null  object\n",
      " 1   type    450176 non-null  object\n",
      "dtypes: object(2)\n",
      "memory usage: 6.9+ MB\n",
      "None\n",
      "                         url        type\n",
      "0     https://www.google.com  legitimate\n",
      "1    https://www.youtube.com  legitimate\n",
      "2   https://www.facebook.com  legitimate\n",
      "3      https://www.baidu.com  legitimate\n",
      "4  https://www.wikipedia.org  legitimate\n",
      "type\n",
      "legitimate    345738\n",
      "phishing      104438\n",
      "Name: count, dtype: int64\n"
     ]
    }
   ],
   "source": [
    "print(dfWebPh4.info())\n",
    "print(dfWebPh4.head())\n",
    "print(dfWebPh4['type'].value_counts())"
   ]
  },
  {
   "cell_type": "code",
   "execution_count": null,
   "metadata": {
    "colab": {
     "base_uri": "https://localhost:8080/"
    },
    "executionInfo": {
     "elapsed": 7249,
     "status": "ok",
     "timestamp": 1730574103402,
     "user": {
      "displayName": "Ramiro Farfañuk",
      "userId": "14188278688468724230"
     },
     "user_tz": 180
    },
    "id": "DaVU2Dv1NZCu",
    "outputId": "e506948b-6a61-4047-e798-21e37165f89a"
   },
   "outputs": [
    {
     "name": "stdout",
     "output_type": "stream",
     "text": [
      "<bound method DataFrame.info of         phishing  url_length  n_dots  n_hypens  n_underline  n_slash  \\\n",
      "0              0          22       2         0            0        2   \n",
      "1              0          23       2         0            0        2   \n",
      "2              0          24       2         0            0        2   \n",
      "3              0          21       2         0            0        2   \n",
      "4              0          25       2         0            0        2   \n",
      "...          ...         ...     ...       ...          ...      ...   \n",
      "450171         1          43       2         1            0        5   \n",
      "450172         1         159       2         0            2       14   \n",
      "450173         1         147       1         0            1       14   \n",
      "450174         1          22       1         0            0        3   \n",
      "450175         1         143       4         1            1        9   \n",
      "\n",
      "        n_questionmark  n_equal  n_at  n_and  n_exclamation  n_space  n_tilde  \\\n",
      "0                    0        0     0      0              0        0        0   \n",
      "1                    0        0     0      0              0        0        0   \n",
      "2                    0        0     0      0              0        0        0   \n",
      "3                    0        0     0      0              0        0        0   \n",
      "4                    0        0     0      0              0        0        0   \n",
      "...                ...      ...   ...    ...            ...      ...      ...   \n",
      "450171               0        0     0      0              0        0        0   \n",
      "450172               0        1     0      0              0        0        0   \n",
      "450173               0        1     0      0              0        0        0   \n",
      "450174               0        0     0      0              0        0        0   \n",
      "450175               0        0     0      0              0        0        0   \n",
      "\n",
      "        n_comma  n_plus  n_asterisk  n_hastag  n_dollar  n_percent  \n",
      "0             0       0           0         0         0          0  \n",
      "1             0       0           0         0         0          0  \n",
      "2             0       0           0         0         0          0  \n",
      "3             0       0           0         0         0          0  \n",
      "4             0       0           0         0         0          0  \n",
      "...         ...     ...         ...       ...       ...        ...  \n",
      "450171        0       0           0         0         0          0  \n",
      "450172        0       0           0         0         0          0  \n",
      "450173        0       0           0         0         0          0  \n",
      "450174        0       0           0         0         0          0  \n",
      "450175        0       0           0         0         0          0  \n",
      "\n",
      "[450176 rows x 19 columns]>\n"
     ]
    }
   ],
   "source": [
    "dfWebPh4.replace('legitimate', 0, inplace=True)\n",
    "dfWebPh4.replace('phishing', 1, inplace=True)\n",
    "\n",
    "df4 = dfWebPh4[['url', 'type']]\n",
    "\n",
    "df4 = df4.rename(columns={'type':'phishing'})\n",
    "\n",
    "df4['url_length'] = df4['url'].str.len()\n",
    "df4['n_dots'] = df4['url'].str.count('\\.')\n",
    "df4['n_hypens'] = df4['url'].str.count('-')\n",
    "df4['n_underline'] = df4['url'].str.count('_')\n",
    "df4['n_slash'] = df4['url'].str.count('/')\n",
    "df4['n_questionmark'] = df4['url'].str.count('\\?')\n",
    "df4['n_equal'] = df4['url'].str.count('=')\n",
    "df4['n_at'] = df4['url'].str.count('@')\n",
    "df4['n_and'] = df4['url'].str.count('&')\n",
    "df4['n_exclamation'] = df4['url'].str.count('!')\n",
    "df4['n_space'] = df4['url'].str.count(' ')\n",
    "df4['n_tilde'] = df4['url'].str.count('~')\n",
    "df4['n_comma'] = df4['url'].str.count(',')\n",
    "df4['n_plus'] =  df4['url'].str.count('\\+')\n",
    "df4['n_asterisk'] = df4['url'].str.count('\\*')\n",
    "df4['n_hastag'] = df4['url'].str.count('#')\n",
    "df4['n_dollar'] = df4['url'].str.count('\\$')\n",
    "df4['n_percent'] = df4['url'].str.count('%')\n",
    "df4['n_hastag'] = df4['url'].str.count('#')\n",
    "\n",
    "df4 = df4.drop(columns=['url'])\n",
    "\n",
    "print(df4.info)"
   ]
  },
  {
   "cell_type": "code",
   "execution_count": null,
   "metadata": {
    "colab": {
     "base_uri": "https://localhost:8080/"
    },
    "executionInfo": {
     "elapsed": 439,
     "status": "ok",
     "timestamp": 1730574207929,
     "user": {
      "displayName": "Ramiro Farfañuk",
      "userId": "14188278688468724230"
     },
     "user_tz": 180
    },
    "id": "4r7iMSEOPsQT",
    "outputId": "9652f8dc-1d2c-4ace-9f58-c2cf0a5005c3"
   },
   "outputs": [
    {
     "name": "stdout",
     "output_type": "stream",
     "text": [
      "phishing\n",
      "0    345738\n",
      "1    104438\n",
      "Name: count, dtype: int64\n",
      "<bound method DataFrame.info of         phishing  url_length  n_dots  n_hypens  n_underline  n_slash  \\\n",
      "0              0          22       2         0            0        2   \n",
      "1              0          23       2         0            0        2   \n",
      "2              0          24       2         0            0        2   \n",
      "3              0          21       2         0            0        2   \n",
      "4              0          25       2         0            0        2   \n",
      "...          ...         ...     ...       ...          ...      ...   \n",
      "450164         1         154       1         0            0        5   \n",
      "450165         1          78       2         0            5        6   \n",
      "450172         1         159       2         0            2       14   \n",
      "450173         1         147       1         0            1       14   \n",
      "450175         1         143       4         1            1        9   \n",
      "\n",
      "        n_questionmark  n_equal  n_at  n_and  n_exclamation  n_space  n_tilde  \\\n",
      "0                    0        0     0      0              0        0        0   \n",
      "1                    0        0     0      0              0        0        0   \n",
      "2                    0        0     0      0              0        0        0   \n",
      "3                    0        0     0      0              0        0        0   \n",
      "4                    0        0     0      0              0        0        0   \n",
      "...                ...      ...   ...    ...            ...      ...      ...   \n",
      "450164               0        0     0      0              0        0        0   \n",
      "450165               0        0     0      0              0        0        0   \n",
      "450172               0        1     0      0              0        0        0   \n",
      "450173               0        1     0      0              0        0        0   \n",
      "450175               0        0     0      0              0        0        0   \n",
      "\n",
      "        n_comma  n_plus  n_asterisk  n_hastag  n_dollar  n_percent  \n",
      "0             0       0           0         0         0          0  \n",
      "1             0       0           0         0         0          0  \n",
      "2             0       0           0         0         0          0  \n",
      "3             0       0           0         0         0          0  \n",
      "4             0       0           0         0         0          0  \n",
      "...         ...     ...         ...       ...       ...        ...  \n",
      "450164        0       0           0         0         0          0  \n",
      "450165        0       0           0         0         0          0  \n",
      "450172        0       0           0         0         0          0  \n",
      "450173        0       0           0         0         0          0  \n",
      "450175        0       0           0         0         0          0  \n",
      "\n",
      "[71389 rows x 19 columns]>\n",
      "phishing\n",
      "0    45089\n",
      "1    26300\n",
      "Name: count, dtype: int64\n"
     ]
    }
   ],
   "source": [
    "print(df4['phishing'].value_counts())\n",
    "df4 = df4.drop_duplicates()\n",
    "print(df4.info)\n",
    "print(df4['phishing'].value_counts())"
   ]
  },
  {
   "cell_type": "code",
   "execution_count": null,
   "metadata": {
    "colab": {
     "base_uri": "https://localhost:8080/"
    },
    "executionInfo": {
     "elapsed": 288,
     "status": "ok",
     "timestamp": 1729808151470,
     "user": {
      "displayName": "Ramiro Farfañuk",
      "userId": "14188278688468724230"
     },
     "user_tz": 180
    },
    "id": "CqQ03tV0cM5k",
    "outputId": "1104838b-a5a1-4778-bbc7-2ba662bd9203"
   },
   "outputs": [
    {
     "name": "stdout",
     "output_type": "stream",
     "text": [
      "<class 'pandas.core.frame.DataFrame'>\n",
      "RangeIndex: 235795 entries, 0 to 235794\n",
      "Data columns (total 56 columns):\n",
      " #   Column                      Non-Null Count   Dtype  \n",
      "---  ------                      --------------   -----  \n",
      " 0   FILENAME                    235795 non-null  object \n",
      " 1   URL                         235795 non-null  object \n",
      " 2   URLLength                   235795 non-null  int64  \n",
      " 3   Domain                      235795 non-null  object \n",
      " 4   DomainLength                235795 non-null  int64  \n",
      " 5   IsDomainIP                  235795 non-null  int64  \n",
      " 6   TLD                         235795 non-null  object \n",
      " 7   URLSimilarityIndex          235795 non-null  float64\n",
      " 8   CharContinuationRate        235795 non-null  float64\n",
      " 9   TLDLegitimateProb           235795 non-null  float64\n",
      " 10  URLCharProb                 235795 non-null  float64\n",
      " 11  TLDLength                   235795 non-null  int64  \n",
      " 12  NoOfSubDomain               235795 non-null  int64  \n",
      " 13  HasObfuscation              235795 non-null  int64  \n",
      " 14  NoOfObfuscatedChar          235795 non-null  int64  \n",
      " 15  ObfuscationRatio            235795 non-null  float64\n",
      " 16  NoOfLettersInURL            235795 non-null  int64  \n",
      " 17  LetterRatioInURL            235795 non-null  float64\n",
      " 18  NoOfDegitsInURL             235795 non-null  int64  \n",
      " 19  DegitRatioInURL             235795 non-null  float64\n",
      " 20  NoOfEqualsInURL             235795 non-null  int64  \n",
      " 21  NoOfQMarkInURL              235795 non-null  int64  \n",
      " 22  NoOfAmpersandInURL          235795 non-null  int64  \n",
      " 23  NoOfOtherSpecialCharsInURL  235795 non-null  int64  \n",
      " 24  SpacialCharRatioInURL       235795 non-null  float64\n",
      " 25  IsHTTPS                     235795 non-null  int64  \n",
      " 26  LineOfCode                  235795 non-null  int64  \n",
      " 27  LargestLineLength           235795 non-null  int64  \n",
      " 28  HasTitle                    235795 non-null  int64  \n",
      " 29  Title                       235795 non-null  object \n",
      " 30  DomainTitleMatchScore       235795 non-null  float64\n",
      " 31  URLTitleMatchScore          235795 non-null  float64\n",
      " 32  HasFavicon                  235795 non-null  int64  \n",
      " 33  Robots                      235795 non-null  int64  \n",
      " 34  IsResponsive                235795 non-null  int64  \n",
      " 35  NoOfURLRedirect             235795 non-null  int64  \n",
      " 36  NoOfSelfRedirect            235795 non-null  int64  \n",
      " 37  HasDescription              235795 non-null  int64  \n",
      " 38  NoOfPopup                   235795 non-null  int64  \n",
      " 39  NoOfiFrame                  235795 non-null  int64  \n",
      " 40  HasExternalFormSubmit       235795 non-null  int64  \n",
      " 41  HasSocialNet                235795 non-null  int64  \n",
      " 42  HasSubmitButton             235795 non-null  int64  \n",
      " 43  HasHiddenFields             235795 non-null  int64  \n",
      " 44  HasPasswordField            235795 non-null  int64  \n",
      " 45  Bank                        235795 non-null  int64  \n",
      " 46  Pay                         235795 non-null  int64  \n",
      " 47  Crypto                      235795 non-null  int64  \n",
      " 48  HasCopyrightInfo            235795 non-null  int64  \n",
      " 49  NoOfImage                   235795 non-null  int64  \n",
      " 50  NoOfCSS                     235795 non-null  int64  \n",
      " 51  NoOfJS                      235795 non-null  int64  \n",
      " 52  NoOfSelfRef                 235795 non-null  int64  \n",
      " 53  NoOfEmptyRef                235795 non-null  int64  \n",
      " 54  NoOfExternalRef             235795 non-null  int64  \n",
      " 55  label                       235795 non-null  int64  \n",
      "dtypes: float64(10), int64(41), object(5)\n",
      "memory usage: 100.7+ MB\n",
      "None\n",
      "     FILENAME                                 URL  URLLength  \\\n",
      "0  521848.txt    https://www.southbankmosaics.com         31   \n",
      "1   31372.txt            https://www.uni-mainz.de         23   \n",
      "2  597387.txt      https://www.voicefmradio.co.uk         29   \n",
      "3  554095.txt         https://www.sfnmjournal.com         26   \n",
      "4  151578.txt  https://www.rewildingargentina.org         33   \n",
      "\n",
      "                       Domain  DomainLength  IsDomainIP  TLD  \\\n",
      "0    www.southbankmosaics.com            24           0  com   \n",
      "1            www.uni-mainz.de            16           0   de   \n",
      "2      www.voicefmradio.co.uk            22           0   uk   \n",
      "3         www.sfnmjournal.com            19           0  com   \n",
      "4  www.rewildingargentina.org            26           0  org   \n",
      "\n",
      "   URLSimilarityIndex  CharContinuationRate  TLDLegitimateProb  ...  Pay  \\\n",
      "0               100.0              1.000000           0.522907  ...    0   \n",
      "1               100.0              0.666667           0.032650  ...    0   \n",
      "2               100.0              0.866667           0.028555  ...    0   \n",
      "3               100.0              1.000000           0.522907  ...    1   \n",
      "4               100.0              1.000000           0.079963  ...    1   \n",
      "\n",
      "   Crypto  HasCopyrightInfo  NoOfImage  NoOfCSS  NoOfJS  NoOfSelfRef  \\\n",
      "0       0                 1         34       20      28          119   \n",
      "1       0                 1         50        9       8           39   \n",
      "2       0                 1         10        2       7           42   \n",
      "3       1                 1          3       27      15           22   \n",
      "4       0                 1        244       15      34           72   \n",
      "\n",
      "   NoOfEmptyRef  NoOfExternalRef  label  \n",
      "0             0              124      1  \n",
      "1             0              217      1  \n",
      "2             2                5      1  \n",
      "3             1               31      1  \n",
      "4             1               85      1  \n",
      "\n",
      "[5 rows x 56 columns]\n"
     ]
    }
   ],
   "source": [
    "print(dfWebPh3.info())\n",
    "print(dfWebPh3.head())"
   ]
  },
  {
   "cell_type": "code",
   "execution_count": null,
   "metadata": {
    "colab": {
     "base_uri": "https://localhost:8080/"
    },
    "executionInfo": {
     "elapsed": 279,
     "status": "ok",
     "timestamp": 1730568250866,
     "user": {
      "displayName": "Ramiro Farfañuk",
      "userId": "14188278688468724230"
     },
     "user_tz": 180
    },
    "id": "-qjNfcX5cNK3",
    "outputId": "13476672-c451-4632-cafb-2fc52497e7f9"
   },
   "outputs": [
    {
     "name": "stdout",
     "output_type": "stream",
     "text": [
      "<class 'pandas.core.frame.DataFrame'>\n",
      "RangeIndex: 88647 entries, 0 to 88646\n",
      "Columns: 112 entries, qty_dot_url to phishing\n",
      "dtypes: float64(1), int64(111)\n",
      "memory usage: 75.7 MB\n",
      "None\n"
     ]
    }
   ],
   "source": [
    "print(dfWebPh2.info())\n",
    "#print(dfWebPh2.head())"
   ]
  },
  {
   "cell_type": "markdown",
   "metadata": {
    "id": "5VnXA5n8etA_"
   },
   "source": [
    "Limpieza DataSet 2"
   ]
  },
  {
   "cell_type": "code",
   "execution_count": null,
   "metadata": {
    "colab": {
     "base_uri": "https://localhost:8080/"
    },
    "executionInfo": {
     "elapsed": 298,
     "status": "ok",
     "timestamp": 1730568538627,
     "user": {
      "displayName": "Ramiro Farfañuk",
      "userId": "14188278688468724230"
     },
     "user_tz": 180
    },
    "id": "s41aGWT7kM3A",
    "outputId": "64831966-79c1-4137-d5ab-6913ba29afbc"
   },
   "outputs": [
    {
     "name": "stdout",
     "output_type": "stream",
     "text": [
      "<bound method DataFrame.info of        n_dots  n_redirection  n_hypens  n_underline  n_slash  n_questionmark  \\\n",
      "0           3              0         0            0        1               0   \n",
      "1           5              0         0            1        3               0   \n",
      "2           2              0         0            0        1               0   \n",
      "3           4              0         0            2        5               0   \n",
      "4           2              1         0            0        0               0   \n",
      "...       ...            ...       ...          ...      ...             ...   \n",
      "88642       3              0         1            0        0               0   \n",
      "88643       2              2         0            0        0               0   \n",
      "88644       2              0         1            0        5               0   \n",
      "88645       2              0         0            0        1               0   \n",
      "88646       2              0         0            0        0               0   \n",
      "\n",
      "       n_equal  n_at  n_and  n_exclamation  n_space  n_tilde  n_comma  n_plus  \\\n",
      "0            0     0      0              0        0        0        0       0   \n",
      "1            3     0      2              0        0        0        0       0   \n",
      "2            0     0      0              0        0        0        0       0   \n",
      "3            0     0      0              0        0        0        0       0   \n",
      "4            0     0      0              0        0        0        0       0   \n",
      "...        ...   ...    ...            ...      ...      ...      ...     ...   \n",
      "88642        0     0      0              0        0        0        0       0   \n",
      "88643        0     0      0              0        0        0        0       0   \n",
      "88644        0     0      0              0        0        0        0       0   \n",
      "88645        0     0      0              0        0        0        0       0   \n",
      "88646        0     0      0              0        0        0        0       0   \n",
      "\n",
      "       n_asterisk  n_hastag  n_dollar  n_percent  url_length  phishing  \n",
      "0               0         0         0          0          25         1  \n",
      "1               0         0         0          0         223         1  \n",
      "2               0         0         0          0          15         0  \n",
      "3               0         0         0          0          81         1  \n",
      "4               0         0         0          0          19         0  \n",
      "...           ...       ...       ...        ...         ...       ...  \n",
      "88642           0         0         0          0          23         0  \n",
      "88643           0         0         0          0          34         0  \n",
      "88644           0         0         0          0          70         1  \n",
      "88645           0         0         0          0          28         1  \n",
      "88646           0         0         0          0          16         0  \n",
      "\n",
      "[88647 rows x 20 columns]>\n"
     ]
    }
   ],
   "source": [
    "df2 = dfWebPh2[['qty_dot_url', 'qty_redirects', 'qty_hyphen_url', 'qty_underline_url', 'qty_slash_url', 'qty_questionmark_url', 'qty_equal_url', 'qty_at_url', 'qty_and_url', 'qty_exclamation_url', 'qty_space_url', 'qty_tilde_url', 'qty_comma_url', 'qty_plus_url', 'qty_asterisk_url', 'qty_hashtag_url', 'qty_dollar_url', 'qty_percent_url', 'length_url', 'phishing']]\n",
    "\n",
    "df2 = df2.rename(columns={'qty_dot_url':'n_dots', 'qty_redirects':'n_redirection', 'qty_hyphen_url':'n_hypens', 'qty_underline_url':'n_underline', 'qty_slash_url':'n_slash', 'qty_questionmark_url':'n_questionmark', 'qty_equal_url':'n_equal', 'qty_at_url':'n_at', 'qty_and_url':'n_and', 'qty_exclamation_url':'n_exclamation', 'qty_space_url':'n_space', 'qty_tilde_url':'n_tilde', 'qty_comma_url':'n_comma', 'qty_plus_url':'n_plus', 'qty_asterisk_url':'n_asterisk', 'qty_hashtag_url':'n_hastag', 'qty_dollar_url':'n_dollar', 'qty_percent_url':'n_percent', 'length_url':'url_length'})\n",
    "\n",
    "print(df2.info)\n",
    "\n"
   ]
  },
  {
   "cell_type": "markdown",
   "metadata": {
    "id": "ePh2LYWnjl6K"
   },
   "source": [
    "Limpieza DataSet 3"
   ]
  },
  {
   "cell_type": "code",
   "execution_count": null,
   "metadata": {
    "colab": {
     "base_uri": "https://localhost:8080/"
    },
    "executionInfo": {
     "elapsed": 3763,
     "status": "ok",
     "timestamp": 1730568561589,
     "user": {
      "displayName": "Ramiro Farfañuk",
      "userId": "14188278688468724230"
     },
     "user_tz": 180
    },
    "id": "2FuE_SW-jxsw",
    "outputId": "6ff71e63-3a53-401b-bd90-94f875a0e520"
   },
   "outputs": [
    {
     "name": "stdout",
     "output_type": "stream",
     "text": [
      "<bound method DataFrame.info of                                                       URL  url_length  \\\n",
      "0                        https://www.southbankmosaics.com          31   \n",
      "1                                https://www.uni-mainz.de          23   \n",
      "2                          https://www.voicefmradio.co.uk          29   \n",
      "3                             https://www.sfnmjournal.com          26   \n",
      "4                      https://www.rewildingargentina.org          33   \n",
      "...                                                   ...         ...   \n",
      "235790                     https://www.skincareliving.com          29   \n",
      "235791                      https://www.winchester.gov.uk          28   \n",
      "235792                    https://www.nononsensedesign.be          30   \n",
      "235793  https://patient-cell-40f5.updatedlogmylogin.wo...          55   \n",
      "235794                 https://www.alternativefinland.com          33   \n",
      "\n",
      "        n_redirection  phishing  n_dots  n_hypens  n_underline  n_slash  \\\n",
      "0                   0         1       2         0            0        2   \n",
      "1                   0         1       2         1            0        2   \n",
      "2                   0         1       3         0            0        2   \n",
      "3                   0         1       2         0            0        2   \n",
      "4                   1         1       2         0            0        2   \n",
      "...               ...       ...     ...       ...          ...      ...   \n",
      "235790              0         1       2         0            0        2   \n",
      "235791              0         1       3         0            0        2   \n",
      "235792              0         1       2         0            0        2   \n",
      "235793              0         0       3         2            0        3   \n",
      "235794              0         1       2         0            0        2   \n",
      "\n",
      "        n_questionmark  n_equal  ...  n_and  n_exclamation  n_space  n_tilde  \\\n",
      "0                    0        0  ...      0              0        0        0   \n",
      "1                    0        0  ...      0              0        0        0   \n",
      "2                    0        0  ...      0              0        0        0   \n",
      "3                    0        0  ...      0              0        0        0   \n",
      "4                    0        0  ...      0              0        0        0   \n",
      "...                ...      ...  ...    ...            ...      ...      ...   \n",
      "235790               0        0  ...      0              0        0        0   \n",
      "235791               0        0  ...      0              0        0        0   \n",
      "235792               0        0  ...      0              0        0        0   \n",
      "235793               0        0  ...      0              0        0        0   \n",
      "235794               0        0  ...      0              0        0        0   \n",
      "\n",
      "        n_comma  n_plus  n_asterisk  n_hastag  n_dollar  n_percent  \n",
      "0             0       0           0         0         0          0  \n",
      "1             0       0           0         0         0          0  \n",
      "2             0       0           0         0         0          0  \n",
      "3             0       0           0         0         0          0  \n",
      "4             0       0           0         0         0          0  \n",
      "...         ...     ...         ...       ...       ...        ...  \n",
      "235790        0       0           0         0         0          0  \n",
      "235791        0       0           0         0         0          0  \n",
      "235792        0       0           0         0         0          0  \n",
      "235793        0       0           0         0         0          0  \n",
      "235794        0       0           0         0         0          0  \n",
      "\n",
      "[235795 rows x 21 columns]>\n"
     ]
    }
   ],
   "source": [
    "df3 = dfWebPh3[['URL', 'URLLength', 'NoOfurlRedirect', 'label']]\n",
    "\n",
    "df3 = df3.rename(columns={'URLLength':'URL_length', 'NoOfURLRedirect':'n_redirection', 'label':'phishing'})\n",
    "\n",
    "df3['n_dots'] = df3['URL'].str.count('\\.')\n",
    "df3['n_hypens'] = df3['URL'].str.count('-')\n",
    "df3['n_underline'] = df3['URL'].str.count('_')\n",
    "df3['n_slash'] = df3['URL'].str.count('/')\n",
    "df3['n_questionmark'] = df3['URL'].str.count('\\?')\n",
    "df3['n_equal'] = df3['URL'].str.count('=')\n",
    "df3['n_at'] = df3['URL'].str.count('@')\n",
    "df3['n_and'] = df3['URL'].str.count('&')\n",
    "df3['n_exclamation'] = df3['URL'].str.count('!')\n",
    "df3['n_space'] = df3['URL'].str.count(' ')\n",
    "df3['n_tilde'] = df3['URL'].str.count('~')\n",
    "df3['n_comma'] = df3['URL'].str.count(',')\n",
    "df3['n_plus'] =  df3['URL'].str.count('\\+')\n",
    "df3['n_asterisk'] = df3['URL'].str.count('\\*')\n",
    "df3['n_hastag'] = df3['URL'].str.count('#')\n",
    "df3['n_dollar'] = df3['URL'].str.count('\\$')\n",
    "df3['n_percent'] = df3['URL'].str.count('%')\n",
    "df3['n_hastag'] = df3['URL'].str.count('#')\n",
    "\n",
    "\n",
    "\n",
    "print(df3.info)\n",
    "\n",
    "df3 = df3.drop(columns=['URL'])"
   ]
  },
  {
   "cell_type": "code",
   "execution_count": null,
   "metadata": {
    "colab": {
     "base_uri": "https://localhost:8080/"
    },
    "executionInfo": {
     "elapsed": 280,
     "status": "ok",
     "timestamp": 1730574280144,
     "user": {
      "displayName": "Ramiro Farfañuk",
      "userId": "14188278688468724230"
     },
     "user_tz": 180
    },
    "id": "jW2ZBIS7m-m4",
    "outputId": "89692c35-f973-4950-c08b-edf9fca18841"
   },
   "outputs": [
    {
     "name": "stdout",
     "output_type": "stream",
     "text": [
      "<bound method DataFrame.info of         url_length  n_dots  n_hypens  n_underline  n_slash  n_questionmark  \\\n",
      "0               37       3         0            0        0               0   \n",
      "1               77       1         0            0        0               0   \n",
      "2              126       4         1            2        0               1   \n",
      "3               18       2         0            0        0               0   \n",
      "4               55       2         2            0        0               0   \n",
      "...            ...     ...       ...          ...      ...             ...   \n",
      "450164         154       1         0            0        5               0   \n",
      "450165          78       2         0            5        6               0   \n",
      "450172         159       2         0            2       14               0   \n",
      "450173         147       1         0            1       14               0   \n",
      "450175         143       4         1            1        9               0   \n",
      "\n",
      "        n_equal  n_at  n_and  n_exclamation  n_space  n_tilde  n_comma  \\\n",
      "0             0     0      0              0        0        0        0   \n",
      "1             0     0      0              0        0        0        0   \n",
      "2             3     0      2              0        0        0        0   \n",
      "3             0     0      0              0        0        0        0   \n",
      "4             0     0      0              0        0        0        0   \n",
      "...         ...   ...    ...            ...      ...      ...      ...   \n",
      "450164        0     0      0              0        0        0        0   \n",
      "450165        0     0      0              0        0        0        0   \n",
      "450172        1     0      0              0        0        0        0   \n",
      "450173        1     0      0              0        0        0        0   \n",
      "450175        0     0      0              0        0        0        0   \n",
      "\n",
      "        n_plus  n_asterisk  n_hastag  n_dollar  n_percent  phishing  \n",
      "0            0           0         0         0          0         0  \n",
      "1            0           0         0         0          0         1  \n",
      "2            0           0         0         0          0         1  \n",
      "3            0           0         0         0          0         0  \n",
      "4            0           0         0         0          0         0  \n",
      "...        ...         ...       ...       ...        ...       ...  \n",
      "450164       0           0         0         0          0         1  \n",
      "450165       0           0         0         0          0         1  \n",
      "450172       0           0         0         0          0         1  \n",
      "450173       0           0         0         0          0         1  \n",
      "450175       0           0         0         0          0         1  \n",
      "\n",
      "[495908 rows x 19 columns]>\n"
     ]
    }
   ],
   "source": [
    "df = dfWebPh\n",
    "\n",
    "ultimatedf = pd.concat([df, df2, df3, df4])\n",
    "\n",
    "ultimatedf.drop('n_redirection', axis=1, inplace=True)\n",
    "\n",
    "print(ultimatedf.info)"
   ]
  },
  {
   "cell_type": "code",
   "execution_count": null,
   "metadata": {
    "colab": {
     "base_uri": "https://localhost:8080/"
    },
    "executionInfo": {
     "elapsed": 584,
     "status": "ok",
     "timestamp": 1730574285449,
     "user": {
      "displayName": "Ramiro Farfañuk",
      "userId": "14188278688468724230"
     },
     "user_tz": 180
    },
    "id": "4cJQBIw9ouG3",
    "outputId": "08cd054f-7bba-4e09-8dfe-9a071eb57373"
   },
   "outputs": [
    {
     "name": "stdout",
     "output_type": "stream",
     "text": [
      "          url_length         n_dots       n_hypens    n_underline  \\\n",
      "count  495908.000000  495908.000000  495908.000000  495908.000000   \n",
      "mean       44.871664       2.381113       0.679414       0.225239   \n",
      "std        52.128369       1.293681       2.183137       1.196442   \n",
      "min         4.000000       0.000000       0.000000       0.000000   \n",
      "25%        22.000000       2.000000       0.000000       0.000000   \n",
      "50%        28.000000       2.000000       0.000000       0.000000   \n",
      "75%        50.000000       3.000000       0.000000       0.000000   \n",
      "max      6097.000000      99.000000     286.000000     200.000000   \n",
      "\n",
      "             n_slash  n_questionmark        n_equal           n_at  \\\n",
      "count  495908.000000   495908.000000  495908.000000  495908.000000   \n",
      "mean        2.394882        0.075772       0.226286       0.016402   \n",
      "std         2.083977        0.386967       1.127190       0.197883   \n",
      "min         0.000000        0.000000       0.000000       0.000000   \n",
      "25%         1.000000        0.000000       0.000000       0.000000   \n",
      "50%         2.000000        0.000000       0.000000       0.000000   \n",
      "75%         3.000000        0.000000       0.000000       0.000000   \n",
      "max        68.000000      166.000000     176.000000      43.000000   \n",
      "\n",
      "               n_and  n_exclamation        n_space        n_tilde  \\\n",
      "count  495908.000000   495908.00000  495908.000000  495908.000000   \n",
      "mean        0.148167        0.00224       0.001581       0.005041   \n",
      "std         0.937021        0.07374       0.077138       0.087022   \n",
      "min         0.000000        0.00000       0.000000       0.000000   \n",
      "25%         0.000000        0.00000       0.000000       0.000000   \n",
      "50%         0.000000        0.00000       0.000000       0.000000   \n",
      "75%         0.000000        0.00000       0.000000       0.000000   \n",
      "max        50.000000       10.00000      18.000000      11.000000   \n",
      "\n",
      "             n_comma         n_plus     n_asterisk       n_hastag  \\\n",
      "count  495908.000000  495908.000000  495908.000000  495908.000000   \n",
      "mean        0.002853       0.039850       0.002359       0.002968   \n",
      "std         0.133082       0.496998       0.190726       0.230954   \n",
      "min         0.000000       0.000000       0.000000       0.000000   \n",
      "25%         0.000000       0.000000       0.000000       0.000000   \n",
      "50%         0.000000       0.000000       0.000000       0.000000   \n",
      "75%         0.000000       0.000000       0.000000       0.000000   \n",
      "max        23.000000      50.000000      60.000000     152.000000   \n",
      "\n",
      "            n_dollar      n_percent       phishing  \n",
      "count  495908.000000  495908.000000  495908.000000  \n",
      "mean        0.001258       0.120726       0.460083  \n",
      "std         0.085075       1.616756       0.498405  \n",
      "min         0.000000       0.000000       0.000000  \n",
      "25%         0.000000       0.000000       0.000000  \n",
      "50%         0.000000       0.000000       0.000000  \n",
      "75%         0.000000       0.000000       1.000000  \n",
      "max        31.000000     174.000000       1.000000  \n"
     ]
    }
   ],
   "source": [
    "print(ultimatedf.describe())"
   ]
  },
  {
   "cell_type": "code",
   "execution_count": null,
   "metadata": {
    "colab": {
     "base_uri": "https://localhost:8080/"
    },
    "executionInfo": {
     "elapsed": 404,
     "status": "ok",
     "timestamp": 1730574296042,
     "user": {
      "displayName": "Ramiro Farfañuk",
      "userId": "14188278688468724230"
     },
     "user_tz": 180
    },
    "id": "330cF3nNpLbC",
    "outputId": "6a1611b9-859b-4663-aadc-582524b86e2a"
   },
   "outputs": [
    {
     "name": "stdout",
     "output_type": "stream",
     "text": [
      "phishing\n",
      "0    267749\n",
      "1    228159\n",
      "Name: count, dtype: int64\n"
     ]
    }
   ],
   "source": [
    "print(ultimatedf['phishing'].value_counts())"
   ]
  },
  {
   "cell_type": "code",
   "execution_count": null,
   "metadata": {
    "colab": {
     "base_uri": "https://localhost:8080/"
    },
    "executionInfo": {
     "elapsed": 586,
     "status": "ok",
     "timestamp": 1730574302418,
     "user": {
      "displayName": "Ramiro Farfañuk",
      "userId": "14188278688468724230"
     },
     "user_tz": 180
    },
    "id": "G171IEAApjb1",
    "outputId": "bc5a2379-060d-42a5-92a9-912e56dbe5be"
   },
   "outputs": [
    {
     "name": "stdout",
     "output_type": "stream",
     "text": [
      "Número de Duplicados:  403060\n",
      "<class 'pandas.core.frame.DataFrame'>\n",
      "Index: 92848 entries, 0 to 450175\n",
      "Data columns (total 19 columns):\n",
      " #   Column          Non-Null Count  Dtype\n",
      "---  ------          --------------  -----\n",
      " 0   url_length      92848 non-null  int64\n",
      " 1   n_dots          92848 non-null  int64\n",
      " 2   n_hypens        92848 non-null  int64\n",
      " 3   n_underline     92848 non-null  int64\n",
      " 4   n_slash         92848 non-null  int64\n",
      " 5   n_questionmark  92848 non-null  int64\n",
      " 6   n_equal         92848 non-null  int64\n",
      " 7   n_at            92848 non-null  int64\n",
      " 8   n_and           92848 non-null  int64\n",
      " 9   n_exclamation   92848 non-null  int64\n",
      " 10  n_space         92848 non-null  int64\n",
      " 11  n_tilde         92848 non-null  int64\n",
      " 12  n_comma         92848 non-null  int64\n",
      " 13  n_plus          92848 non-null  int64\n",
      " 14  n_asterisk      92848 non-null  int64\n",
      " 15  n_hastag        92848 non-null  int64\n",
      " 16  n_dollar        92848 non-null  int64\n",
      " 17  n_percent       92848 non-null  int64\n",
      " 18  phishing        92848 non-null  int64\n",
      "dtypes: int64(19)\n",
      "memory usage: 14.2 MB\n",
      "None\n"
     ]
    }
   ],
   "source": [
    "duplicated = ultimatedf.duplicated()\n",
    "print(\"Número de Duplicados: \", duplicated.sum())\n",
    "\n",
    "ultimatedf = ultimatedf.drop_duplicates()\n",
    "\n",
    "print(ultimatedf.info())"
   ]
  },
  {
   "cell_type": "code",
   "execution_count": null,
   "metadata": {
    "colab": {
     "base_uri": "https://localhost:8080/"
    },
    "executionInfo": {
     "elapsed": 274,
     "status": "ok",
     "timestamp": 1730574315782,
     "user": {
      "displayName": "Ramiro Farfañuk",
      "userId": "14188278688468724230"
     },
     "user_tz": 180
    },
    "id": "xMRnsgdp7fsO",
    "outputId": "35914dc7-5f4f-4897-f79c-5bcce380bbae"
   },
   "outputs": [
    {
     "name": "stdout",
     "output_type": "stream",
     "text": [
      "phishing\n",
      "0    55913\n",
      "1    36935\n",
      "Name: count, dtype: int64\n"
     ]
    }
   ],
   "source": [
    "print(ultimatedf['phishing'].value_counts())"
   ]
  },
  {
   "cell_type": "code",
   "execution_count": null,
   "metadata": {
    "colab": {
     "base_uri": "https://localhost:8080/"
    },
    "executionInfo": {
     "elapsed": 279,
     "status": "ok",
     "timestamp": 1730574327642,
     "user": {
      "displayName": "Ramiro Farfañuk",
      "userId": "14188278688468724230"
     },
     "user_tz": 180
    },
    "id": "mJh0gp3THKBK",
    "outputId": "6b66afb8-ba7a-4e63-9050-3959d4c3a004"
   },
   "outputs": [
    {
     "name": "stdout",
     "output_type": "stream",
     "text": [
      "         url_length        n_dots      n_hypens   n_underline       n_slash  \\\n",
      "count  92848.000000  92848.000000  92848.000000  92848.000000  92848.000000   \n",
      "mean      99.629147      3.276829      2.390832      1.022402      4.934237   \n",
      "std       84.554420      2.217307      4.321632      2.503486      2.498243   \n",
      "min        4.000000      0.000000      0.000000      0.000000      0.000000   \n",
      "25%       64.000000      2.000000      0.000000      0.000000      3.000000   \n",
      "50%       83.000000      3.000000      1.000000      0.000000      5.000000   \n",
      "75%      111.000000      4.000000      3.000000      1.000000      6.000000   \n",
      "max     6097.000000     99.000000    286.000000    200.000000     68.000000   \n",
      "\n",
      "       n_questionmark       n_equal          n_at         n_and  \\\n",
      "count    92848.000000  92848.000000  92848.000000  92848.000000   \n",
      "mean         0.358909      0.894042      0.056199      0.591095   \n",
      "std          0.803101      2.218987      0.346676      1.830242   \n",
      "min          0.000000      0.000000      0.000000      0.000000   \n",
      "25%          0.000000      0.000000      0.000000      0.000000   \n",
      "50%          0.000000      0.000000      0.000000      0.000000   \n",
      "75%          1.000000      1.000000      0.000000      0.000000   \n",
      "max        166.000000    176.000000     43.000000     50.000000   \n",
      "\n",
      "       n_exclamation       n_space       n_tilde       n_comma        n_plus  \\\n",
      "count   92848.000000  92848.000000  92848.000000  92848.000000  92848.000000   \n",
      "mean        0.008541      0.007205      0.022833      0.012235      0.209278   \n",
      "std         0.145227      0.162382      0.182063      0.294527      1.126880   \n",
      "min         0.000000      0.000000      0.000000      0.000000      0.000000   \n",
      "25%         0.000000      0.000000      0.000000      0.000000      0.000000   \n",
      "50%         0.000000      0.000000      0.000000      0.000000      0.000000   \n",
      "75%         0.000000      0.000000      0.000000      0.000000      0.000000   \n",
      "max        10.000000     18.000000     11.000000     23.000000     50.000000   \n",
      "\n",
      "         n_asterisk      n_hastag      n_dollar     n_percent      phishing  \n",
      "count  92848.000000  92848.000000  92848.000000  92848.000000  92848.000000  \n",
      "mean       0.008099      0.013495      0.004900      0.502133      0.397801  \n",
      "std        0.326701      0.528447      0.170679      3.204302      0.489447  \n",
      "min        0.000000      0.000000      0.000000      0.000000      0.000000  \n",
      "25%        0.000000      0.000000      0.000000      0.000000      0.000000  \n",
      "50%        0.000000      0.000000      0.000000      0.000000      0.000000  \n",
      "75%        0.000000      0.000000      0.000000      0.000000      1.000000  \n",
      "max       60.000000    152.000000     31.000000    174.000000      1.000000  \n"
     ]
    }
   ],
   "source": [
    "ultimatedf[ultimatedf<0] = 0\n",
    "print(ultimatedf.describe())"
   ]
  },
  {
   "cell_type": "code",
   "execution_count": null,
   "metadata": {
    "id": "P5-Ax8unsPdh"
   },
   "outputs": [],
   "source": [
    "ultimatedf.to_csv('/content/drive/MyDrive/Ciencia de Datos TPO/DataSets/DataSet_WebPhishing_Final.csv', index=False)"
   ]
  },
  {
   "cell_type": "code",
   "execution_count": 3,
   "metadata": {
    "executionInfo": {
     "elapsed": 267,
     "status": "ok",
     "timestamp": 1730640901008,
     "user": {
      "displayName": "Ramiro Farfañuk",
      "userId": "14188278688468724230"
     },
     "user_tz": 180
    },
    "id": "UwFhVxQWO3vc"
   },
   "outputs": [],
   "source": [
    "ULTdata_set = pd.read_csv('/content/drive/MyDrive/Ciencia de Datos TPO/DataSets/DataSet_WebPhishing_Final.csv')\n",
    "\n",
    "dfWebPhULT = pd.DataFrame(ULTdata_set)"
   ]
  },
  {
   "cell_type": "code",
   "execution_count": 4,
   "metadata": {
    "executionInfo": {
     "elapsed": 290,
     "status": "ok",
     "timestamp": 1730640991295,
     "user": {
      "displayName": "Ramiro Farfañuk",
      "userId": "14188278688468724230"
     },
     "user_tz": 180
    },
    "id": "S7HPFWZfPH14"
   },
   "outputs": [],
   "source": [
    "dfPhish = dfWebPhULT[dfWebPhULT['phishing'] == 1]\n",
    "dfNoPhish = dfWebPhULT[dfWebPhULT['phishing'] == 0]"
   ]
  },
  {
   "cell_type": "code",
   "execution_count": 5,
   "metadata": {
    "colab": {
     "base_uri": "https://localhost:8080/"
    },
    "executionInfo": {
     "elapsed": 294,
     "status": "ok",
     "timestamp": 1730640993321,
     "user": {
      "displayName": "Ramiro Farfañuk",
      "userId": "14188278688468724230"
     },
     "user_tz": 180
    },
    "id": "WgUZlK4UPVSm",
    "outputId": "9196bf22-6a09-4fc9-aac0-2396de174c14"
   },
   "outputs": [
    {
     "name": "stdout",
     "output_type": "stream",
     "text": [
      "         url_length        n_dots      n_hypens   n_underline       n_slash  \\\n",
      "count  36935.000000  36935.000000  36935.000000  36935.000000  36935.000000   \n",
      "mean     108.692622      3.574712      1.289617      0.748477      5.120942   \n",
      "std       95.768283      2.833513      2.189529      2.264902      2.919131   \n",
      "min        5.000000      0.000000      0.000000      0.000000      0.000000   \n",
      "25%       61.000000      2.000000      0.000000      0.000000      3.000000   \n",
      "50%       82.000000      3.000000      1.000000      0.000000      5.000000   \n",
      "75%      122.000000      4.000000      2.000000      1.000000      7.000000   \n",
      "max     4165.000000     32.000000     37.000000    200.000000     46.000000   \n",
      "\n",
      "       n_questionmark       n_equal          n_at         n_and  \\\n",
      "count    36935.000000  36935.000000  36935.000000  36935.000000   \n",
      "mean         0.443671      1.220143      0.105889      0.901882   \n",
      "std          1.102587      2.194840      0.498464      2.352398   \n",
      "min          0.000000      0.000000      0.000000      0.000000   \n",
      "25%          0.000000      0.000000      0.000000      0.000000   \n",
      "50%          0.000000      0.000000      0.000000      0.000000   \n",
      "75%          1.000000      1.000000      0.000000      0.000000   \n",
      "max        166.000000     27.000000     43.000000     28.000000   \n",
      "\n",
      "       n_exclamation       n_space       n_tilde       n_comma        n_plus  \\\n",
      "count   36935.000000  36935.000000  36935.000000  36935.000000  36935.000000   \n",
      "mean        0.013510      0.012752      0.026831      0.026506      0.045810   \n",
      "std         0.198975      0.205056      0.206596      0.449636      0.581815   \n",
      "min         0.000000      0.000000      0.000000      0.000000      0.000000   \n",
      "25%         0.000000      0.000000      0.000000      0.000000      0.000000   \n",
      "50%         0.000000      0.000000      0.000000      0.000000      0.000000   \n",
      "75%         0.000000      0.000000      0.000000      0.000000      0.000000   \n",
      "max        10.000000     18.000000     11.000000     23.000000     50.000000   \n",
      "\n",
      "         n_asterisk      n_hastag      n_dollar     n_percent  phishing  \n",
      "count  36935.000000  36935.000000  36935.000000  36935.000000   36935.0  \n",
      "mean       0.014512      0.014999      0.010478      0.531934       1.0  \n",
      "std        0.497250      0.826631      0.263938      3.805543       0.0  \n",
      "min        0.000000      0.000000      0.000000      0.000000       1.0  \n",
      "25%        0.000000      0.000000      0.000000      0.000000       1.0  \n",
      "50%        0.000000      0.000000      0.000000      0.000000       1.0  \n",
      "75%        0.000000      0.000000      0.000000      0.000000       1.0  \n",
      "max       60.000000    152.000000     31.000000    162.000000       1.0  \n"
     ]
    }
   ],
   "source": [
    "print(dfPhish.describe())"
   ]
  },
  {
   "cell_type": "code",
   "execution_count": 6,
   "metadata": {
    "colab": {
     "base_uri": "https://localhost:8080/"
    },
    "executionInfo": {
     "elapsed": 326,
     "status": "ok",
     "timestamp": 1730641015361,
     "user": {
      "displayName": "Ramiro Farfañuk",
      "userId": "14188278688468724230"
     },
     "user_tz": 180
    },
    "id": "nWqn2w3KPa3_",
    "outputId": "b4c5ac29-490b-4b7a-ab06-7c9095ed2962"
   },
   "outputs": [
    {
     "name": "stdout",
     "output_type": "stream",
     "text": [
      "         url_length        n_dots      n_hypens   n_underline       n_slash  \\\n",
      "count  55913.000000  55913.000000  55913.000000  55913.000000  55913.000000   \n",
      "mean      93.641997      3.080053      3.118273      1.203352      4.810903   \n",
      "std       75.655207      1.662307      5.149463      2.633772      2.167236   \n",
      "min        4.000000      1.000000      0.000000      0.000000      0.000000   \n",
      "25%       66.000000      2.000000      0.000000      0.000000      3.000000   \n",
      "50%       84.000000      3.000000      1.000000      0.000000      5.000000   \n",
      "75%      108.000000      4.000000      4.000000      1.000000      6.000000   \n",
      "max     6097.000000     99.000000    286.000000     86.000000     68.000000   \n",
      "\n",
      "       n_questionmark       n_equal          n_at         n_and  \\\n",
      "count    55913.000000  55913.000000  55913.000000  55913.000000   \n",
      "mean         0.302917      0.678626      0.023376      0.385796   \n",
      "std          0.509996      2.208561      0.180937      1.342090   \n",
      "min          0.000000      0.000000      0.000000      0.000000   \n",
      "25%          0.000000      0.000000      0.000000      0.000000   \n",
      "50%          0.000000      0.000000      0.000000      0.000000   \n",
      "75%          1.000000      1.000000      0.000000      0.000000   \n",
      "max         20.000000    176.000000      6.000000     50.000000   \n",
      "\n",
      "       n_exclamation       n_space       n_tilde       n_comma        n_plus  \\\n",
      "count   55913.000000  55913.000000  55913.000000  55913.000000  55913.000000   \n",
      "mean        0.005258      0.003541      0.020192      0.002808      0.317261   \n",
      "std         0.094040      0.126400      0.163803      0.101371      1.362275   \n",
      "min         0.000000      0.000000      0.000000      0.000000      0.000000   \n",
      "25%         0.000000      0.000000      0.000000      0.000000      0.000000   \n",
      "50%         0.000000      0.000000      0.000000      0.000000      0.000000   \n",
      "75%         0.000000      0.000000      0.000000      0.000000      0.000000   \n",
      "max         5.000000     18.000000      9.000000     11.000000     37.000000   \n",
      "\n",
      "         n_asterisk      n_hastag      n_dollar     n_percent  phishing  \n",
      "count  55913.000000  55913.000000  55913.000000  55913.000000   55913.0  \n",
      "mean       0.003863      0.012502      0.001216      0.482446       0.0  \n",
      "std        0.117746      0.111110      0.048204      2.735453       0.0  \n",
      "min        0.000000      0.000000      0.000000      0.000000       0.0  \n",
      "25%        0.000000      0.000000      0.000000      0.000000       0.0  \n",
      "50%        0.000000      0.000000      0.000000      0.000000       0.0  \n",
      "75%        0.000000      0.000000      0.000000      0.000000       0.0  \n",
      "max        8.000000      1.000000      5.000000    174.000000       0.0  \n"
     ]
    }
   ],
   "source": [
    "print(dfNoPhish.describe())"
   ]
  }
 ],
 "metadata": {
  "colab": {
   "authorship_tag": "ABX9TyMN1wFCeZmdF+yFtSRHkePK",
   "provenance": []
  },
  "kernelspec": {
   "display_name": "envcd",
   "language": "python",
   "name": "python3"
  },
  "language_info": {
   "codemirror_mode": {
    "name": "ipython",
    "version": 3
   },
   "file_extension": ".py",
   "mimetype": "text/x-python",
   "name": "python",
   "nbconvert_exporter": "python",
   "pygments_lexer": "ipython3",
   "version": "3.12.6"
  }
 },
 "nbformat": 4,
 "nbformat_minor": 0
}
