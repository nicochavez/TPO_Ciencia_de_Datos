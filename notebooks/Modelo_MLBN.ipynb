{
 "cells": [
  {
   "cell_type": "markdown",
   "metadata": {
    "id": "H34w1mI3xSG5"
   },
   "source": [
    "Imports y Librerías"
   ]
  },
  {
   "cell_type": "code",
   "execution_count": 1,
   "metadata": {
    "colab": {
     "base_uri": "https://localhost:8080/",
     "height": 547
    },
    "executionInfo": {
     "elapsed": 12722,
     "status": "ok",
     "timestamp": 1730807111066,
     "user": {
      "displayName": "Facundo Gainski",
      "userId": "01373646427527657958"
     },
     "user_tz": 180
    },
    "id": "qvUlZDmib3pW",
    "outputId": "c7072782-4707-41ca-eeae-3335f17cba87"
   },
   "outputs": [],
   "source": [
    "import pandas as pd\n",
    "import numpy as np\n",
    "from sklearn.linear_model import SGDClassifier\n",
    "from sklearn.linear_model import LogisticRegression\n",
    "from sklearn.svm import LinearSVC\n",
    "from sklearn.naive_bayes import GaussianNB\n",
    "from sklearn.naive_bayes import MultinomialNB\n",
    "from sklearn.naive_bayes import ComplementNB\n",
    "from sklearn.model_selection import train_test_split\n",
    "from sklearn.model_selection import GridSearchCV\n",
    "from sklearn.model_selection import cross_val_score\n",
    "from sklearn import metrics"
   ]
  },
  {
   "cell_type": "markdown",
   "metadata": {
    "id": "vc1IZDnExUzN"
   },
   "source": [
    "Creo Data Frames"
   ]
  },
  {
   "cell_type": "code",
   "execution_count": 2,
   "metadata": {
    "id": "S4RCZSMWc1M7"
   },
   "outputs": [],
   "source": [
    "data_set = pd.read_csv('../datasets/DataSet_WebPhishing_Final.csv')\n",
    "\n",
    "dfWebPh = pd.DataFrame(data_set)"
   ]
  },
  {
   "cell_type": "markdown",
   "metadata": {
    "id": "kbyRTs7mxYXN"
   },
   "source": [
    "Descripción del Data Set (AED)"
   ]
  },
  {
   "cell_type": "code",
   "execution_count": 3,
   "metadata": {
    "colab": {
     "base_uri": "https://localhost:8080/",
     "height": 320
    },
    "executionInfo": {
     "elapsed": 284,
     "status": "ok",
     "timestamp": 1730764678525,
     "user": {
      "displayName": "Facundo Gainski",
      "userId": "01373646427527657958"
     },
     "user_tz": 180
    },
    "id": "ydSzi5b7xOLn",
    "outputId": "a0a44628-f6f2-4660-98e2-077ad46aee56"
   },
   "outputs": [
    {
     "data": {
      "text/html": [
       "<div>\n",
       "<style scoped>\n",
       "    .dataframe tbody tr th:only-of-type {\n",
       "        vertical-align: middle;\n",
       "    }\n",
       "\n",
       "    .dataframe tbody tr th {\n",
       "        vertical-align: top;\n",
       "    }\n",
       "\n",
       "    .dataframe thead th {\n",
       "        text-align: right;\n",
       "    }\n",
       "</style>\n",
       "<table border=\"1\" class=\"dataframe\">\n",
       "  <thead>\n",
       "    <tr style=\"text-align: right;\">\n",
       "      <th></th>\n",
       "      <th>url_length</th>\n",
       "      <th>n_dots</th>\n",
       "      <th>n_hypens</th>\n",
       "      <th>n_underline</th>\n",
       "      <th>n_slash</th>\n",
       "      <th>n_questionmark</th>\n",
       "      <th>n_equal</th>\n",
       "      <th>n_at</th>\n",
       "      <th>n_and</th>\n",
       "      <th>n_exclamation</th>\n",
       "      <th>n_space</th>\n",
       "      <th>n_tilde</th>\n",
       "      <th>n_comma</th>\n",
       "      <th>n_plus</th>\n",
       "      <th>n_asterisk</th>\n",
       "      <th>n_hastag</th>\n",
       "      <th>n_dollar</th>\n",
       "      <th>n_percent</th>\n",
       "      <th>phishing</th>\n",
       "    </tr>\n",
       "  </thead>\n",
       "  <tbody>\n",
       "    <tr>\n",
       "      <th>count</th>\n",
       "      <td>92848.000000</td>\n",
       "      <td>92848.000000</td>\n",
       "      <td>92848.000000</td>\n",
       "      <td>92848.000000</td>\n",
       "      <td>92848.000000</td>\n",
       "      <td>92848.000000</td>\n",
       "      <td>92848.000000</td>\n",
       "      <td>92848.000000</td>\n",
       "      <td>92848.000000</td>\n",
       "      <td>92848.000000</td>\n",
       "      <td>92848.000000</td>\n",
       "      <td>92848.000000</td>\n",
       "      <td>92848.000000</td>\n",
       "      <td>92848.000000</td>\n",
       "      <td>92848.000000</td>\n",
       "      <td>92848.000000</td>\n",
       "      <td>92848.000000</td>\n",
       "      <td>92848.000000</td>\n",
       "      <td>92848.000000</td>\n",
       "    </tr>\n",
       "    <tr>\n",
       "      <th>mean</th>\n",
       "      <td>99.629147</td>\n",
       "      <td>3.276829</td>\n",
       "      <td>2.390832</td>\n",
       "      <td>1.022402</td>\n",
       "      <td>4.934237</td>\n",
       "      <td>0.358909</td>\n",
       "      <td>0.894042</td>\n",
       "      <td>0.056199</td>\n",
       "      <td>0.591095</td>\n",
       "      <td>0.008541</td>\n",
       "      <td>0.007205</td>\n",
       "      <td>0.022833</td>\n",
       "      <td>0.012235</td>\n",
       "      <td>0.209278</td>\n",
       "      <td>0.008099</td>\n",
       "      <td>0.013495</td>\n",
       "      <td>0.004900</td>\n",
       "      <td>0.502133</td>\n",
       "      <td>0.397801</td>\n",
       "    </tr>\n",
       "    <tr>\n",
       "      <th>std</th>\n",
       "      <td>84.554420</td>\n",
       "      <td>2.217307</td>\n",
       "      <td>4.321632</td>\n",
       "      <td>2.503486</td>\n",
       "      <td>2.498243</td>\n",
       "      <td>0.803101</td>\n",
       "      <td>2.218987</td>\n",
       "      <td>0.346676</td>\n",
       "      <td>1.830242</td>\n",
       "      <td>0.145227</td>\n",
       "      <td>0.162382</td>\n",
       "      <td>0.182063</td>\n",
       "      <td>0.294527</td>\n",
       "      <td>1.126880</td>\n",
       "      <td>0.326701</td>\n",
       "      <td>0.528447</td>\n",
       "      <td>0.170679</td>\n",
       "      <td>3.204302</td>\n",
       "      <td>0.489447</td>\n",
       "    </tr>\n",
       "    <tr>\n",
       "      <th>min</th>\n",
       "      <td>4.000000</td>\n",
       "      <td>0.000000</td>\n",
       "      <td>0.000000</td>\n",
       "      <td>0.000000</td>\n",
       "      <td>0.000000</td>\n",
       "      <td>0.000000</td>\n",
       "      <td>0.000000</td>\n",
       "      <td>0.000000</td>\n",
       "      <td>0.000000</td>\n",
       "      <td>0.000000</td>\n",
       "      <td>0.000000</td>\n",
       "      <td>0.000000</td>\n",
       "      <td>0.000000</td>\n",
       "      <td>0.000000</td>\n",
       "      <td>0.000000</td>\n",
       "      <td>0.000000</td>\n",
       "      <td>0.000000</td>\n",
       "      <td>0.000000</td>\n",
       "      <td>0.000000</td>\n",
       "    </tr>\n",
       "    <tr>\n",
       "      <th>25%</th>\n",
       "      <td>64.000000</td>\n",
       "      <td>2.000000</td>\n",
       "      <td>0.000000</td>\n",
       "      <td>0.000000</td>\n",
       "      <td>3.000000</td>\n",
       "      <td>0.000000</td>\n",
       "      <td>0.000000</td>\n",
       "      <td>0.000000</td>\n",
       "      <td>0.000000</td>\n",
       "      <td>0.000000</td>\n",
       "      <td>0.000000</td>\n",
       "      <td>0.000000</td>\n",
       "      <td>0.000000</td>\n",
       "      <td>0.000000</td>\n",
       "      <td>0.000000</td>\n",
       "      <td>0.000000</td>\n",
       "      <td>0.000000</td>\n",
       "      <td>0.000000</td>\n",
       "      <td>0.000000</td>\n",
       "    </tr>\n",
       "    <tr>\n",
       "      <th>50%</th>\n",
       "      <td>83.000000</td>\n",
       "      <td>3.000000</td>\n",
       "      <td>1.000000</td>\n",
       "      <td>0.000000</td>\n",
       "      <td>5.000000</td>\n",
       "      <td>0.000000</td>\n",
       "      <td>0.000000</td>\n",
       "      <td>0.000000</td>\n",
       "      <td>0.000000</td>\n",
       "      <td>0.000000</td>\n",
       "      <td>0.000000</td>\n",
       "      <td>0.000000</td>\n",
       "      <td>0.000000</td>\n",
       "      <td>0.000000</td>\n",
       "      <td>0.000000</td>\n",
       "      <td>0.000000</td>\n",
       "      <td>0.000000</td>\n",
       "      <td>0.000000</td>\n",
       "      <td>0.000000</td>\n",
       "    </tr>\n",
       "    <tr>\n",
       "      <th>75%</th>\n",
       "      <td>111.000000</td>\n",
       "      <td>4.000000</td>\n",
       "      <td>3.000000</td>\n",
       "      <td>1.000000</td>\n",
       "      <td>6.000000</td>\n",
       "      <td>1.000000</td>\n",
       "      <td>1.000000</td>\n",
       "      <td>0.000000</td>\n",
       "      <td>0.000000</td>\n",
       "      <td>0.000000</td>\n",
       "      <td>0.000000</td>\n",
       "      <td>0.000000</td>\n",
       "      <td>0.000000</td>\n",
       "      <td>0.000000</td>\n",
       "      <td>0.000000</td>\n",
       "      <td>0.000000</td>\n",
       "      <td>0.000000</td>\n",
       "      <td>0.000000</td>\n",
       "      <td>1.000000</td>\n",
       "    </tr>\n",
       "    <tr>\n",
       "      <th>max</th>\n",
       "      <td>6097.000000</td>\n",
       "      <td>99.000000</td>\n",
       "      <td>286.000000</td>\n",
       "      <td>200.000000</td>\n",
       "      <td>68.000000</td>\n",
       "      <td>166.000000</td>\n",
       "      <td>176.000000</td>\n",
       "      <td>43.000000</td>\n",
       "      <td>50.000000</td>\n",
       "      <td>10.000000</td>\n",
       "      <td>18.000000</td>\n",
       "      <td>11.000000</td>\n",
       "      <td>23.000000</td>\n",
       "      <td>50.000000</td>\n",
       "      <td>60.000000</td>\n",
       "      <td>152.000000</td>\n",
       "      <td>31.000000</td>\n",
       "      <td>174.000000</td>\n",
       "      <td>1.000000</td>\n",
       "    </tr>\n",
       "  </tbody>\n",
       "</table>\n",
       "</div>"
      ],
      "text/plain": [
       "         url_length        n_dots      n_hypens   n_underline       n_slash  \\\n",
       "count  92848.000000  92848.000000  92848.000000  92848.000000  92848.000000   \n",
       "mean      99.629147      3.276829      2.390832      1.022402      4.934237   \n",
       "std       84.554420      2.217307      4.321632      2.503486      2.498243   \n",
       "min        4.000000      0.000000      0.000000      0.000000      0.000000   \n",
       "25%       64.000000      2.000000      0.000000      0.000000      3.000000   \n",
       "50%       83.000000      3.000000      1.000000      0.000000      5.000000   \n",
       "75%      111.000000      4.000000      3.000000      1.000000      6.000000   \n",
       "max     6097.000000     99.000000    286.000000    200.000000     68.000000   \n",
       "\n",
       "       n_questionmark       n_equal          n_at         n_and  \\\n",
       "count    92848.000000  92848.000000  92848.000000  92848.000000   \n",
       "mean         0.358909      0.894042      0.056199      0.591095   \n",
       "std          0.803101      2.218987      0.346676      1.830242   \n",
       "min          0.000000      0.000000      0.000000      0.000000   \n",
       "25%          0.000000      0.000000      0.000000      0.000000   \n",
       "50%          0.000000      0.000000      0.000000      0.000000   \n",
       "75%          1.000000      1.000000      0.000000      0.000000   \n",
       "max        166.000000    176.000000     43.000000     50.000000   \n",
       "\n",
       "       n_exclamation       n_space       n_tilde       n_comma        n_plus  \\\n",
       "count   92848.000000  92848.000000  92848.000000  92848.000000  92848.000000   \n",
       "mean        0.008541      0.007205      0.022833      0.012235      0.209278   \n",
       "std         0.145227      0.162382      0.182063      0.294527      1.126880   \n",
       "min         0.000000      0.000000      0.000000      0.000000      0.000000   \n",
       "25%         0.000000      0.000000      0.000000      0.000000      0.000000   \n",
       "50%         0.000000      0.000000      0.000000      0.000000      0.000000   \n",
       "75%         0.000000      0.000000      0.000000      0.000000      0.000000   \n",
       "max        10.000000     18.000000     11.000000     23.000000     50.000000   \n",
       "\n",
       "         n_asterisk      n_hastag      n_dollar     n_percent      phishing  \n",
       "count  92848.000000  92848.000000  92848.000000  92848.000000  92848.000000  \n",
       "mean       0.008099      0.013495      0.004900      0.502133      0.397801  \n",
       "std        0.326701      0.528447      0.170679      3.204302      0.489447  \n",
       "min        0.000000      0.000000      0.000000      0.000000      0.000000  \n",
       "25%        0.000000      0.000000      0.000000      0.000000      0.000000  \n",
       "50%        0.000000      0.000000      0.000000      0.000000      0.000000  \n",
       "75%        0.000000      0.000000      0.000000      0.000000      1.000000  \n",
       "max       60.000000    152.000000     31.000000    174.000000      1.000000  "
      ]
     },
     "execution_count": 3,
     "metadata": {},
     "output_type": "execute_result"
    }
   ],
   "source": [
    "#dfWebPh.head()\n",
    "\n",
    "#dfWebPh.info()\n",
    "\n",
    "dfWebPh.describe()\n",
    "\n",
    "#print(list(dfWebPh))"
   ]
  },
  {
   "cell_type": "markdown",
   "metadata": {
    "id": "EApMbbxGxx9D"
   },
   "source": [
    "Entrenamiento y Test del Modelo con LinearSVC"
   ]
  },
  {
   "cell_type": "code",
   "execution_count": 4,
   "metadata": {
    "colab": {
     "base_uri": "https://localhost:8080/"
    },
    "executionInfo": {
     "elapsed": 5846,
     "status": "ok",
     "timestamp": 1730764686124,
     "user": {
      "displayName": "Facundo Gainski",
      "userId": "01373646427527657958"
     },
     "user_tz": 180
    },
    "id": "V_vnc9Rv4ck3",
    "outputId": "859cce90-4db5-46c0-ed6f-12a0f6f2559d"
   },
   "outputs": [
    {
     "name": "stdout",
     "output_type": "stream",
     "text": [
      "Accuracy: 0.674744211093161\n",
      "Confusion Matrix: [[4904  672]\n",
      " [2348 1361]]\n",
      "0.66 accuracy with a standard deviation of 0.05\n"
     ]
    }
   ],
   "source": [
    "#Separo DataSet en Etiquetas y columna de Clases (0 good / 1 bad)\n",
    "feature_cols = ['url_length', 'n_dots', 'n_hypens', 'n_underline', 'n_slash', 'n_questionmark', 'n_equal', 'n_at', 'n_and', 'n_exclamation', 'n_space', 'n_tilde', 'n_comma', 'n_plus', 'n_asterisk', 'n_hastag', 'n_dollar', 'n_percent']\n",
    "X = dfWebPh[feature_cols] # Etiquetas\n",
    "y = dfWebPh.phishing # Clases\n",
    "\n",
    "# Separo data set para pruebas en entrenamiento y test\n",
    "X_train, X_test, y_train, y_test = train_test_split(X, y, test_size=0.1, random_state=1) # 70% training and 30% test\n",
    "\n",
    "\n",
    "LSVC = LinearSVC(C=3000, max_iter=1500)\n",
    "\n",
    "LSVC.fit(X_train, y_train)\n",
    "y_pred = LSVC.predict(X_test)\n",
    "\n",
    "\n",
    "print(\"Accuracy:\",metrics.accuracy_score(y_test, y_pred))\n",
    "\n",
    "\n",
    "#print(\"Classification Report:\",metrics.classification_report(y_test, y_pred))\n",
    "print(\"Confusion Matrix:\",metrics.confusion_matrix(y_test, y_pred))\n",
    "\n",
    "scores = cross_val_score(LSVC, X, y, cv=5)\n",
    "\n",
    "print(\"%0.2f accuracy with a standard deviation of %0.2f\" % (scores.mean(), scores.std()))\n",
    "\n",
    "#LSVCTEST = LinearSVC()\n",
    "\n",
    "#param_grid = {'C': [1, 10, 100, 1000, 2000, 3000]}\n",
    "\n",
    "#grid_search = GridSearchCV(LSVC, param_grid, cv=5)\n",
    "\n",
    "#grid_search.fit(X_train, y_train)\n",
    "\n",
    "#print(grid_search.best_params_)\n",
    "#print(grid_search.best_score_)\n",
    "\n",
    "\n",
    "\n",
    "\n",
    "\n"
   ]
  },
  {
   "cell_type": "markdown",
   "metadata": {
    "id": "7nVRaKTPGCQk"
   },
   "source": [
    "Multinomial Naive Bayes SE USA ESTE"
   ]
  },
  {
   "cell_type": "code",
   "execution_count": 5,
   "metadata": {
    "colab": {
     "base_uri": "https://localhost:8080/"
    },
    "executionInfo": {
     "elapsed": 1712,
     "status": "ok",
     "timestamp": 1730764691243,
     "user": {
      "displayName": "Facundo Gainski",
      "userId": "01373646427527657958"
     },
     "user_tz": 180
    },
    "id": "6O508YdzGBmP",
    "outputId": "3e12672e-ddf1-4680-8a43-45c240ca6e3f"
   },
   "outputs": [
    {
     "name": "stdout",
     "output_type": "stream",
     "text": [
      "Accuracy: 0.6656973613354873\n",
      "Confusion Matrix: [[3842 1734]\n",
      " [1370 2339]]\n",
      "0.66 accuracy with a standard deviation of 0.05\n",
      "0.59 f1 with a standard deviation of 0.03\n",
      "0.62 recall with a standard deviation of 0.03\n"
     ]
    }
   ],
   "source": [
    "#Separo DataSet en Etiquetas y columna de Clases (0 good / 1 bad)\n",
    "feature_cols = ['url_length', 'n_dots', 'n_hypens', 'n_underline', 'n_slash', 'n_questionmark', 'n_equal', 'n_at', 'n_and', 'n_exclamation', 'n_space', 'n_tilde', 'n_comma', 'n_plus', 'n_asterisk', 'n_hastag', 'n_dollar', 'n_percent']\n",
    "X = dfWebPh[feature_cols] # Etiquetas\n",
    "y = dfWebPh.phishing # Clases\n",
    "\n",
    "# Separo data set para pruebas en entrenamiento y test\n",
    "X_train, X_test, y_train, y_test = train_test_split(X, y, test_size=0.1, random_state=1) # 70% training and 30% test\n",
    "\n",
    "\n",
    "MLNB = MultinomialNB()\n",
    "\n",
    "MLNB.fit(X_train, y_train)\n",
    "y_pred = MLNB.predict(X_test)\n",
    "\n",
    "\n",
    "print(\"Accuracy:\",metrics.accuracy_score(y_test, y_pred))\n",
    "\n",
    "\n",
    "#print(\"Classification Report:\",metrics.classification_report(y_test, y_pred))\n",
    "print(\"Confusion Matrix:\",metrics.confusion_matrix(y_test, y_pred))\n",
    "\n",
    "scores = cross_val_score(MLNB, X, y, cv=5)\n",
    "\n",
    "print(\"%0.2f accuracy with a standard deviation of %0.2f\" % (scores.mean(), scores.std()))\n",
    "\n",
    "scores = cross_val_score(MLNB, X, y, cv=5, scoring='f1')\n",
    "\n",
    "print(\"%0.2f f1 with a standard deviation of %0.2f\" % (scores.mean(), scores.std()))\n",
    "\n",
    "scores = cross_val_score(MLNB, X, y, cv=5, scoring='recall')\n",
    "\n",
    "print(\"%0.2f recall with a standard deviation of %0.2f\" % (scores.mean(), scores.std()))\n",
    "\n"
   ]
  },
  {
   "cell_type": "markdown",
   "metadata": {
    "id": "EPyQ1Gyq6aoC"
   },
   "source": [
    "PRUEBA SGDC CLASSIFIER"
   ]
  },
  {
   "cell_type": "code",
   "execution_count": 6,
   "metadata": {
    "colab": {
     "base_uri": "https://localhost:8080/"
    },
    "executionInfo": {
     "elapsed": 12220,
     "status": "ok",
     "timestamp": 1730764709373,
     "user": {
      "displayName": "Facundo Gainski",
      "userId": "01373646427527657958"
     },
     "user_tz": 180
    },
    "id": "Nn2PEyeZx7S9",
    "outputId": "6521dc21-440e-4890-adb8-296aa63bc50d"
   },
   "outputs": [
    {
     "name": "stdout",
     "output_type": "stream",
     "text": [
      "Accuracy: 0.6040926225094237\n",
      "Confusion Matrix: [[16817     0]\n",
      " [11028    10]]\n",
      "0.65 accuracy with a standard deviation of 0.05\n"
     ]
    }
   ],
   "source": [
    "#Separo DataSet en Etiquetas y columna de Clases (0 good / 1 bad)\n",
    "feature_cols = ['url_length', 'n_dots', 'n_hypens', 'n_underline', 'n_slash', 'n_questionmark', 'n_equal', 'n_at', 'n_and', 'n_exclamation', 'n_space', 'n_tilde', 'n_comma', 'n_plus', 'n_asterisk', 'n_hastag', 'n_dollar', 'n_percent']\n",
    "X = dfWebPh[feature_cols] # Etiquetas\n",
    "y = dfWebPh.phishing # Clases\n",
    "\n",
    "# Separo data set para pruebas en entrenamiento y test\n",
    "X_train, X_test, y_train, y_test = train_test_split(X, y, test_size=0.3, random_state=1) # 70% training and 30% test\n",
    "\n",
    "SGDC = SGDClassifier(loss=\"hinge\", penalty=\"l2\", max_iter=1000, alpha = 0.0000001)\n",
    "SGDC.fit(X_train, y_train)\n",
    "y_pred = SGDC.predict(X_test)\n",
    "\n",
    "\n",
    "print(\"Accuracy:\",metrics.accuracy_score(y_test, y_pred))\n",
    "#print(\"Classification Report:\",metrics.classification_report(y_test, y_pred))\n",
    "print(\"Confusion Matrix:\",metrics.confusion_matrix(y_test, y_pred))\n",
    "\n",
    "scores = cross_val_score(SGDC, X, y, cv=5)\n",
    "\n",
    "print(\"%0.2f accuracy with a standard deviation of %0.2f\" % (scores.mean(), scores.std()))\n",
    "\n"
   ]
  },
  {
   "cell_type": "markdown",
   "metadata": {
    "id": "MZ5WBCxR6fao"
   },
   "source": [
    "PRUEBA REGRESIÓN LOGÍSTICA"
   ]
  },
  {
   "cell_type": "code",
   "execution_count": 7,
   "metadata": {
    "colab": {
     "base_uri": "https://localhost:8080/"
    },
    "executionInfo": {
     "elapsed": 65394,
     "status": "ok",
     "timestamp": 1730764776694,
     "user": {
      "displayName": "Facundo Gainski",
      "userId": "01373646427527657958"
     },
     "user_tz": 180
    },
    "id": "8tZ_7-VL_4_e",
    "outputId": "7b204fa3-0852-4517-ad2e-fad0cdc0d83f"
   },
   "outputs": [
    {
     "name": "stdout",
     "output_type": "stream",
     "text": [
      "Accuracy: 0.6891760904684976\n",
      "Confusion Matrix: [[4739  837]\n",
      " [2049 1660]]\n",
      "0.67 accuracy with a standard deviation of 0.05\n"
     ]
    }
   ],
   "source": [
    "#Separo DataSet en Etiquetas y columna de Clases (0 good / 1 bad)\n",
    "feature_cols = ['url_length', 'n_dots', 'n_hypens', 'n_underline', 'n_slash', 'n_questionmark', 'n_equal', 'n_at', 'n_and', 'n_exclamation', 'n_space', 'n_tilde', 'n_comma', 'n_plus', 'n_asterisk', 'n_hastag', 'n_dollar', 'n_percent']\n",
    "X = dfWebPh[feature_cols] # Etiquetas\n",
    "y = dfWebPh.phishing # Clases\n",
    "\n",
    "# Separo data set para pruebas en entrenamiento y test\n",
    "X_train, X_test, y_train, y_test = train_test_split(X, y, test_size=0.1, random_state=1) # 70% training and 30% test\n",
    "\n",
    "\n",
    "LR = LogisticRegression(max_iter=3000, C = 3.0)\n",
    "\n",
    "LR.fit(X_train, y_train)\n",
    "y_pred = LR.predict(X_test)\n",
    "\n",
    "\n",
    "print(\"Accuracy:\",metrics.accuracy_score(y_test, y_pred))\n",
    "\n",
    "\n",
    "#print(\"Classification Report:\",metrics.classification_report(y_test, y_pred))\n",
    "print(\"Confusion Matrix:\",metrics.confusion_matrix(y_test, y_pred))\n",
    "\n",
    "scores = cross_val_score(LR, X, y, cv=5)\n",
    "\n",
    "print(\"%0.2f accuracy with a standard deviation of %0.2f\" % (scores.mean(), scores.std()))"
   ]
  },
  {
   "cell_type": "markdown",
   "metadata": {
    "id": "9m-yrxQo6kkv"
   },
   "source": [
    "PRUEBA SGDC CLASSIFIER CON GRIDSEARCH\n",
    "\n",
    "\n"
   ]
  },
  {
   "cell_type": "code",
   "execution_count": 10,
   "metadata": {
    "colab": {
     "base_uri": "https://localhost:8080/",
     "height": 373
    },
    "executionInfo": {
     "elapsed": 285,
     "status": "error",
     "timestamp": 1730765087263,
     "user": {
      "displayName": "Facundo Gainski",
      "userId": "01373646427527657958"
     },
     "user_tz": 180
    },
    "id": "ysCJhMWd5Yji",
    "outputId": "e519f130-9aed-43c6-a10b-00c9adf448cb"
   },
   "outputs": [
    {
     "name": "stdout",
     "output_type": "stream",
     "text": [
      "{'cv': 5, 'error_score': nan, 'estimator__alpha': 0.0001, 'estimator__average': False, 'estimator__class_weight': None, 'estimator__early_stopping': False, 'estimator__epsilon': 0.1, 'estimator__eta0': 0.0, 'estimator__fit_intercept': True, 'estimator__l1_ratio': 0.15, 'estimator__learning_rate': 'optimal', 'estimator__loss': 'hinge', 'estimator__max_iter': 1000, 'estimator__n_iter_no_change': 5, 'estimator__n_jobs': None, 'estimator__penalty': 'l2', 'estimator__power_t': 0.5, 'estimator__random_state': None, 'estimator__shuffle': True, 'estimator__tol': 0.001, 'estimator__validation_fraction': 0.1, 'estimator__verbose': 0, 'estimator__warm_start': False, 'estimator': SGDClassifier(), 'n_jobs': 1, 'param_grid': {'loss': ['hinge'], 'penalty': ['elasticnet', 'l2'], 'max_iter': [150, 250, 500, 1000, 2000, 3000], 'alpha': array([1.00000000e-04, 7.74263683e-04, 5.99484250e-03, 4.64158883e-02,\n",
      "       3.59381366e-01, 2.78255940e+00, 2.15443469e+01, 1.66810054e+02,\n",
      "       1.29154967e+03, 1.00000000e+04]), 'l1_ratio': [0.05, 0.06, 0.07, 0.08, 0.09, 0.1, 0.12, 0.13, 0.14, 0.15, 0.2]}, 'pre_dispatch': '2*n_jobs', 'refit': True, 'return_train_score': False, 'scoring': None, 'verbose': 1}\n"
     ]
    }
   ],
   "source": [
    "#Separo DataSet en Etiquetas y columna de Clases (0 good / 1 bad)\n",
    "feature_cols = ['url_length', 'n_dots', 'n_hypens', 'n_underline', 'n_slash', 'n_questionmark', 'n_equal', 'n_at', 'n_and', 'n_exclamation', 'n_space', 'n_tilde', 'n_comma', 'n_plus', 'n_asterisk', 'n_hastag', 'n_dollar', 'n_percent']\n",
    "X = dfWebPh[feature_cols] # Etiquetas\n",
    "y = dfWebPh.phishing # Clases\n",
    "\n",
    "# Separo data set para pruebas en entrenamiento y test\n",
    "X_train, X_test, y_train, y_test = train_test_split(X, y, test_size=0.1, random_state=1) # 70% training and 30% test\n",
    "\n",
    "SGDC = SGDClassifier()\n",
    "\n",
    "sgdc_params = {\n",
    "    'loss':['hinge'],\n",
    "    'penalty':['elasticnet', 'l2'],\n",
    "    'max_iter':[150, 250, 500, 1000, 2000, 3000],\n",
    "    'alpha':np.logspace(-4, 4, 10),\n",
    "    'l1_ratio':[0.05,0.06,0.07,0.08,0.09,0.1,0.12,0.13,0.14,0.15,0.2]\n",
    "}\n",
    "\n",
    "\n",
    "sgdc_gs = GridSearchCV(SGDC, sgdc_params, cv=5, verbose=1, n_jobs=1)\n",
    "\n",
    "print(sgdc_gs.get_params())\n",
    "\n",
    "#sgdc_gs.fit(X_train, y_train)\n",
    "#y_pred = sgdc_gs.predict(X_test)\n",
    "\n",
    "\n",
    "#print(\"Accuracy:\",metrics.accuracy_score(y_test, y_pred))\n",
    "\n"
   ]
  },
  {
   "cell_type": "markdown",
   "metadata": {},
   "source": [
    "IMPLEMENTACION MODELO"
   ]
  },
  {
   "cell_type": "code",
   "execution_count": null,
   "metadata": {
    "colab": {
     "base_uri": "https://localhost:8080/"
    },
    "executionInfo": {
     "elapsed": 640,
     "status": "ok",
     "timestamp": 1730807359057,
     "user": {
      "displayName": "Facundo Gainski",
      "userId": "01373646427527657958"
     },
     "user_tz": 180
    },
    "id": "a7SQAPUwTN3B",
    "outputId": "815bd513-b86b-4d5f-c88d-d2a1bb0fbc82"
   },
   "outputs": [
    {
     "name": "stderr",
     "output_type": "stream",
     "text": [
      "<>:28: SyntaxWarning: invalid escape sequence '\\?'\n",
      "<>:36: SyntaxWarning: invalid escape sequence '\\+'\n",
      "<>:37: SyntaxWarning: invalid escape sequence '\\*'\n",
      "<>:39: SyntaxWarning: invalid escape sequence '\\$'\n",
      "<>:28: SyntaxWarning: invalid escape sequence '\\?'\n",
      "<>:36: SyntaxWarning: invalid escape sequence '\\+'\n",
      "<>:37: SyntaxWarning: invalid escape sequence '\\*'\n",
      "<>:39: SyntaxWarning: invalid escape sequence '\\$'\n",
      "C:\\Users\\nicol\\AppData\\Local\\Temp\\ipykernel_54528\\2200574870.py:28: SyntaxWarning: invalid escape sequence '\\?'\n",
      "  df['n_questionmark'] = df['url'].str.count('\\?')\n",
      "C:\\Users\\nicol\\AppData\\Local\\Temp\\ipykernel_54528\\2200574870.py:36: SyntaxWarning: invalid escape sequence '\\+'\n",
      "  df['n_plus'] =  df['url'].str.count('\\+')\n",
      "C:\\Users\\nicol\\AppData\\Local\\Temp\\ipykernel_54528\\2200574870.py:37: SyntaxWarning: invalid escape sequence '\\*'\n",
      "  df['n_asterisk'] = df['url'].str.count('\\*')\n",
      "C:\\Users\\nicol\\AppData\\Local\\Temp\\ipykernel_54528\\2200574870.py:39: SyntaxWarning: invalid escape sequence '\\$'\n",
      "  df['n_dollar'] = df['url'].str.count('\\$')\n"
     ]
    }
   ],
   "source": [
    "import threading\n",
    "import pandas as pd\n",
    "\n",
    "data_set = pd.read_csv('../datasets/DataSet_WebPhishing_Final.csv')\n",
    "\n",
    "dfWebPh = pd.DataFrame(data_set)\n",
    "\n",
    "#data_set_classification = pd.read_csv('/content/drive/MyDrive/Ciencia de Datos TPO/DataSets/URL Classification.csv', names=['url', 'category'])\n",
    "\n",
    "#dfWebClassification = pd.DataFrame(data_set_classification)\n",
    "\n",
    "\n",
    "#Separo DataSet en Etiquetas y columna de Clases (0 good / 1 bad)\n",
    "feature_cols = ['url_length', 'n_dots', 'n_hypens', 'n_underline', 'n_slash', 'n_questionmark', 'n_equal', 'n_at', 'n_and', 'n_exclamation', 'n_space', 'n_tilde', 'n_comma', 'n_plus', 'n_asterisk', 'n_hastag', 'n_dollar', 'n_percent']\n",
    "X = dfWebPh[feature_cols] # Etiquetas\n",
    "y = dfWebPh.phishing # Clases\n",
    "\n",
    "\n",
    "MLNB = MultinomialNB()\n",
    "\n",
    "MLNB.fit(X, y)\n",
    "\n",
    "\n",
    "def valueCalc(df):\n",
    "  df['url_length'] = df['url'].str.len()\n",
    "  df['n_dots'] = df['url'].str.count('\\.')\n",
    "  df['n_hypens'] = df['url'].str.count('-')\n",
    "  df['n_underline'] = df['url'].str.count('_')\n",
    "  df['n_slash'] = df['url'].str.count('/')\n",
    "  df['n_questionmark'] = df['url'].str.count('\\?')\n",
    "  df['n_equal'] = df['url'].str.count('=')\n",
    "  df['n_at'] = df['url'].str.count('@')\n",
    "  df['n_and'] = df['url'].str.count('&')\n",
    "  df['n_exclamation'] = df['url'].str.count('!')\n",
    "  df['n_space'] = df['url'].str.count(' ')\n",
    "  df['n_tilde'] = df['url'].str.count('~')\n",
    "  df['n_comma'] = df['url'].str.count(',')\n",
    "  df['n_plus'] =  df['url'].str.count('\\+')\n",
    "  df['n_asterisk'] = df['url'].str.count('\\*')\n",
    "  df['n_hastag'] = df['url'].str.count('#')\n",
    "  df['n_dollar'] = df['url'].str.count('\\$')\n",
    "  df['n_percent'] = df['url'].str.count('%')\n",
    "  df['n_hastag'] = df['url'].str.count('#')\n",
    "\n",
    "  return(df)\n",
    "\n",
    "\n",
    "\n",
    "\n",
    "# Ruta para analizar una URL\n",
    "def predict_LonelyURL(URL):\n",
    "\n",
    "  urlDict = {}\n",
    "  urlDict['url'] = URL\n",
    "  urlDF = pd.DataFrame(urlDict, index=[0])\n",
    "  urlDF = valueCalc(urlDF)\n",
    "\n",
    "  urlDF.drop('url', axis=1, inplace=True)\n",
    "\n",
    "  prediction = MLNB.predict_proba(urlDF)\n",
    "\n",
    "  return(prediction)\n",
    "\n",
    "# Ruta para analizar un archivo CSV\n",
    "def predict_GroupURL(text):\n",
    "\n",
    "  csv = text.split('\\n')\n",
    "\n",
    "  i = 0\n",
    "  l = []\n",
    "\n",
    "  for line in csv:\n",
    "    i = i + 1\n",
    "    sepa = line.split(',')\n",
    "    if len(sepa) == 9 :\n",
    "      l.append(sepa[5])\n",
    "\n",
    "  csvDF = pd.DataFrame(l, columns=['url'])\n",
    "\n",
    "  csvDF = csvDF[1:]\n",
    "\n",
    "  df_urlPredict = pd.DataFrame(csvDF)\n",
    "\n",
    "  df_urlPredict = valueCalc(df_urlPredict)\n",
    "\n",
    "  df_urlPredict.drop('url', axis=1, inplace=True)\n",
    "\n",
    "  prediction = MLNB.predict(df_urlPredict)\n",
    "\n",
    "  prediction = pd.DataFrame(prediction, columns=['prediction'])\n",
    "\n",
    "  lVal = []\n",
    "\n",
    "  listaValores = prediction['prediction'].value_counts()\n",
    "\n",
    "  lVal.append(listaValores[0])\n",
    "  lVal.append(listaValores[1])\n",
    "\n",
    "  return(lVal)\n"
   ]
  },
  {
   "cell_type": "code",
   "execution_count": 15,
   "metadata": {},
   "outputs": [
    {
     "data": {
      "text/plain": [
       "array([[0.17430005, 0.82569995]])"
      ]
     },
     "execution_count": 15,
     "metadata": {},
     "output_type": "execute_result"
    }
   ],
   "source": [
    "predict_LonelyURL(\"https://s3.amazonaws.com/d1wc2038/r.html#4dPBVH7147taLN15fezvzaazzr200IRKEOEENXLBOTAM4231YXBZ1379W11\")"
   ]
  }
 ],
 "metadata": {
  "colab": {
   "provenance": []
  },
  "kernelspec": {
   "display_name": "envcd",
   "language": "python",
   "name": "python3"
  },
  "language_info": {
   "codemirror_mode": {
    "name": "ipython",
    "version": 3
   },
   "file_extension": ".py",
   "mimetype": "text/x-python",
   "name": "python",
   "nbconvert_exporter": "python",
   "pygments_lexer": "ipython3",
   "version": "3.12.6"
  }
 },
 "nbformat": 4,
 "nbformat_minor": 0
}
