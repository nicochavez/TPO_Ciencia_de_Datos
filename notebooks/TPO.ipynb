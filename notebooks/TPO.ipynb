{
 "cells": [
  {
   "cell_type": "markdown",
   "metadata": {
    "id": "H34w1mI3xSG5"
   },
   "source": [
    "Imports y Librerías"
   ]
  },
  {
   "cell_type": "code",
   "execution_count": null,
   "metadata": {
    "colab": {
     "base_uri": "https://localhost:8080/",
     "height": 547
    },
    "executionInfo": {
     "elapsed": 12722,
     "status": "ok",
     "timestamp": 1730807111066,
     "user": {
      "displayName": "Facundo Gainski",
      "userId": "01373646427527657958"
     },
     "user_tz": 180
    },
    "id": "qvUlZDmib3pW",
    "outputId": "c7072782-4707-41ca-eeae-3335f17cba87"
   },
   "outputs": [
    {
     "name": "stdout",
     "output_type": "stream",
     "text": [
      "Requirement already satisfied: anvil-uplink in /usr/local/lib/python3.10/dist-packages (0.5.2)\n",
      "Collecting argparse (from anvil-uplink)\n",
      "  Using cached argparse-1.4.0-py2.py3-none-any.whl.metadata (2.8 kB)\n",
      "Requirement already satisfied: future in /usr/local/lib/python3.10/dist-packages (from anvil-uplink) (1.0.0)\n",
      "Requirement already satisfied: six in /usr/local/lib/python3.10/dist-packages (from anvil-uplink) (1.16.0)\n",
      "Requirement already satisfied: ws4py-sslupdate in /usr/local/lib/python3.10/dist-packages (from anvil-uplink) (0.5.1b0)\n",
      "Using cached argparse-1.4.0-py2.py3-none-any.whl (23 kB)\n",
      "Installing collected packages: argparse\n",
      "Successfully installed argparse-1.4.0\n"
     ]
    },
    {
     "data": {
      "application/vnd.colab-display-data+json": {
       "id": "7b7dd229055f43f9a3dd7dd526d6fdef",
       "pip_warning": {
        "packages": [
         "argparse"
        ]
       }
      }
     },
     "metadata": {},
     "output_type": "display_data"
    },
    {
     "name": "stdout",
     "output_type": "stream",
     "text": [
      "Requirement already satisfied: flask in /usr/local/lib/python3.10/dist-packages (2.2.5)\n",
      "Requirement already satisfied: pyngrok in /usr/local/lib/python3.10/dist-packages (7.2.1)\n",
      "Requirement already satisfied: Werkzeug>=2.2.2 in /usr/local/lib/python3.10/dist-packages (from flask) (3.0.6)\n",
      "Requirement already satisfied: Jinja2>=3.0 in /usr/local/lib/python3.10/dist-packages (from flask) (3.1.4)\n",
      "Requirement already satisfied: itsdangerous>=2.0 in /usr/local/lib/python3.10/dist-packages (from flask) (2.2.0)\n",
      "Requirement already satisfied: click>=8.0 in /usr/local/lib/python3.10/dist-packages (from flask) (8.1.7)\n",
      "Requirement already satisfied: PyYAML>=5.1 in /usr/local/lib/python3.10/dist-packages (from pyngrok) (6.0.2)\n",
      "Requirement already satisfied: MarkupSafe>=2.0 in /usr/local/lib/python3.10/dist-packages (from Jinja2>=3.0->flask) (3.0.2)\n",
      "Requirement already satisfied: flask-cors in /usr/local/lib/python3.10/dist-packages (5.0.0)\n",
      "Requirement already satisfied: Flask>=0.9 in /usr/local/lib/python3.10/dist-packages (from flask-cors) (2.2.5)\n",
      "Requirement already satisfied: Werkzeug>=2.2.2 in /usr/local/lib/python3.10/dist-packages (from Flask>=0.9->flask-cors) (3.0.6)\n",
      "Requirement already satisfied: Jinja2>=3.0 in /usr/local/lib/python3.10/dist-packages (from Flask>=0.9->flask-cors) (3.1.4)\n",
      "Requirement already satisfied: itsdangerous>=2.0 in /usr/local/lib/python3.10/dist-packages (from Flask>=0.9->flask-cors) (2.2.0)\n",
      "Requirement already satisfied: click>=8.0 in /usr/local/lib/python3.10/dist-packages (from Flask>=0.9->flask-cors) (8.1.7)\n",
      "Requirement already satisfied: MarkupSafe>=2.0 in /usr/local/lib/python3.10/dist-packages (from Jinja2>=3.0->Flask>=0.9->flask-cors) (3.0.2)\n",
      "Drive already mounted at /content/drive; to attempt to forcibly remount, call drive.mount(\"/content/drive\", force_remount=True).\n"
     ]
    }
   ],
   "source": [
    "import pandas as pd\n",
    "import numpy as np\n",
    "import anvil.server\n",
    "from google.colab import drive\n",
    "from sklearn.linear_model import SGDClassifier\n",
    "from sklearn.linear_model import LogisticRegression\n",
    "from sklearn.svm import LinearSVC\n",
    "from sklearn.naive_bayes import GaussianNB\n",
    "from sklearn.naive_bayes import MultinomialNB\n",
    "from sklearn.naive_bayes import ComplementNB\n",
    "from sklearn.model_selection import train_test_split\n",
    "from sklearn.model_selection import GridSearchCV\n",
    "from sklearn.model_selection import cross_val_score\n",
    "from sklearn import metrics\n",
    "\n",
    "\n",
    "drive.mount('/content/drive')\n",
    "\n",
    "\n"
   ]
  },
  {
   "cell_type": "code",
   "execution_count": null,
   "metadata": {
    "colab": {
     "base_uri": "https://localhost:8080/"
    },
    "executionInfo": {
     "elapsed": 536,
     "status": "ok",
     "timestamp": 1730765083103,
     "user": {
      "displayName": "Facundo Gainski",
      "userId": "01373646427527657958"
     },
     "user_tz": 180
    },
    "id": "cUTl8FPKpADM",
    "outputId": "ffc39a48-5236-4fe5-d124-602d822dfd24"
   },
   "outputs": [
    {
     "name": "stdout",
     "output_type": "stream",
     "text": [
      "Connecting to wss://anvil.works/uplink\n",
      "Anvil websocket open\n",
      "Connected to \"Default Environment\" as SERVER\n"
     ]
    }
   ],
   "source": [
    "anvil.server.connect(\"server_MY3ISYCG44D62GIBTD5RDX5N-JAI7ID7HTVDYSPJ2\")"
   ]
  },
  {
   "cell_type": "markdown",
   "metadata": {
    "id": "vc1IZDnExUzN"
   },
   "source": [
    "Creo Data Frames"
   ]
  },
  {
   "cell_type": "code",
   "execution_count": null,
   "metadata": {
    "id": "S4RCZSMWc1M7"
   },
   "outputs": [],
   "source": [
    "data_set = pd.read_csv('/content/drive/MyDrive/Ciencia de Datos TPO/DataSets/DataSet_WebPhishing_Final.csv')\n",
    "\n",
    "dfWebPh = pd.DataFrame(data_set)\n",
    "\n"
   ]
  },
  {
   "cell_type": "code",
   "execution_count": null,
   "metadata": {
    "colab": {
     "base_uri": "https://localhost:8080/"
    },
    "executionInfo": {
     "elapsed": 1953,
     "status": "ok",
     "timestamp": 1730764676873,
     "user": {
      "displayName": "Facundo Gainski",
      "userId": "01373646427527657958"
     },
     "user_tz": 180
    },
    "id": "KcR4USwbdNrE",
    "outputId": "db60ef6c-5f48-4813-bfcf-7febe86b71f1"
   },
   "outputs": [
    {
     "name": "stdout",
     "output_type": "stream",
     "text": [
      "Drive already mounted at /content/drive; to attempt to forcibly remount, call drive.mount(\"/content/drive\", force_remount=True).\n"
     ]
    }
   ],
   "source": [
    "from google.colab import drive\n",
    "drive.mount('/content/drive')"
   ]
  },
  {
   "cell_type": "markdown",
   "metadata": {
    "id": "kbyRTs7mxYXN"
   },
   "source": [
    "Descripción del Data Set"
   ]
  },
  {
   "cell_type": "code",
   "execution_count": null,
   "metadata": {
    "colab": {
     "base_uri": "https://localhost:8080/",
     "height": 320
    },
    "executionInfo": {
     "elapsed": 284,
     "status": "ok",
     "timestamp": 1730764678525,
     "user": {
      "displayName": "Facundo Gainski",
      "userId": "01373646427527657958"
     },
     "user_tz": 180
    },
    "id": "ydSzi5b7xOLn",
    "outputId": "a0a44628-f6f2-4660-98e2-077ad46aee56"
   },
   "outputs": [
    {
     "data": {
      "application/vnd.google.colaboratory.intrinsic+json": {
       "summary": "{\n  \"name\": \"#print(list(dfWebPh))\",\n  \"rows\": 8,\n  \"fields\": [\n    {\n      \"column\": \"url_length\",\n      \"properties\": {\n        \"dtype\": \"number\",\n        \"std\": 32564.527127075948,\n        \"min\": 4.0,\n        \"max\": 92848.0,\n        \"num_unique_values\": 8,\n        \"samples\": [\n          99.62914656212304,\n          83.0,\n          92848.0\n        ],\n        \"semantic_type\": \"\",\n        \"description\": \"\"\n      }\n    },\n    {\n      \"column\": \"n_dots\",\n      \"properties\": {\n        \"dtype\": \"number\",\n        \"std\": 32821.01031277462,\n        \"min\": 0.0,\n        \"max\": 92848.0,\n        \"num_unique_values\": 8,\n        \"samples\": [\n          3.276828795450629,\n          3.0,\n          92848.0\n        ],\n        \"semantic_type\": \"\",\n        \"description\": \"\"\n      }\n    },\n    {\n      \"column\": \"n_hypens\",\n      \"properties\": {\n        \"dtype\": \"number\",\n        \"std\": 32811.88972630697,\n        \"min\": 0.0,\n        \"max\": 92848.0,\n        \"num_unique_values\": 7,\n        \"samples\": [\n          92848.0,\n          2.390832328106152,\n          3.0\n        ],\n        \"semantic_type\": \"\",\n        \"description\": \"\"\n      }\n    },\n    {\n      \"column\": \"n_underline\",\n      \"properties\": {\n        \"dtype\": \"number\",\n        \"std\": 32816.46916789266,\n        \"min\": 0.0,\n        \"max\": 92848.0,\n        \"num_unique_values\": 6,\n        \"samples\": [\n          92848.0,\n          1.0224022057556437,\n          200.0\n        ],\n        \"semantic_type\": \"\",\n        \"description\": \"\"\n      }\n    },\n    {\n      \"column\": \"n_slash\",\n      \"properties\": {\n        \"dtype\": \"number\",\n        \"std\": 32822.2159826818,\n        \"min\": 0.0,\n        \"max\": 92848.0,\n        \"num_unique_values\": 8,\n        \"samples\": [\n          4.9342366017577115,\n          5.0,\n          92848.0\n        ],\n        \"semantic_type\": \"\",\n        \"description\": \"\"\n      }\n    },\n    {\n      \"column\": \"n_questionmark\",\n      \"properties\": {\n        \"dtype\": \"number\",\n        \"std\": 32818.28293230792,\n        \"min\": 0.0,\n        \"max\": 92848.0,\n        \"num_unique_values\": 6,\n        \"samples\": [\n          92848.0,\n          0.3589091849043598,\n          166.0\n        ],\n        \"semantic_type\": \"\",\n        \"description\": \"\"\n      }\n    },\n    {\n      \"column\": \"n_equal\",\n      \"properties\": {\n        \"dtype\": \"number\",\n        \"std\": 32817.68547600258,\n        \"min\": 0.0,\n        \"max\": 92848.0,\n        \"num_unique_values\": 6,\n        \"samples\": [\n          92848.0,\n          0.8940418748922971,\n          176.0\n        ],\n        \"semantic_type\": \"\",\n        \"description\": \"\"\n      }\n    },\n    {\n      \"column\": \"n_at\",\n      \"properties\": {\n        \"dtype\": \"number\",\n        \"std\": 32824.53647176181,\n        \"min\": 0.0,\n        \"max\": 92848.0,\n        \"num_unique_values\": 5,\n        \"samples\": [\n          0.056199379631225226,\n          43.0,\n          0.3466760725807071\n        ],\n        \"semantic_type\": \"\",\n        \"description\": \"\"\n      }\n    },\n    {\n      \"column\": \"n_and\",\n      \"properties\": {\n        \"dtype\": \"number\",\n        \"std\": 32824.08212648848,\n        \"min\": 0.0,\n        \"max\": 92848.0,\n        \"num_unique_values\": 5,\n        \"samples\": [\n          0.5910951232121316,\n          50.0,\n          1.8302418742605753\n        ],\n        \"semantic_type\": \"\",\n        \"description\": \"\"\n      }\n    },\n    {\n      \"column\": \"n_exclamation\",\n      \"properties\": {\n        \"dtype\": \"number\",\n        \"std\": 32826.2125526731,\n        \"min\": 0.0,\n        \"max\": 92848.0,\n        \"num_unique_values\": 5,\n        \"samples\": [\n          0.008540840944339136,\n          10.0,\n          0.14522707549040484\n        ],\n        \"semantic_type\": \"\",\n        \"description\": \"\"\n      }\n    },\n    {\n      \"column\": \"n_space\",\n      \"properties\": {\n        \"dtype\": \"number\",\n        \"std\": 32825.80810951801,\n        \"min\": 0.0,\n        \"max\": 92848.0,\n        \"num_unique_values\": 5,\n        \"samples\": [\n          0.007205324831983457,\n          18.0,\n          0.16238193147015875\n        ],\n        \"semantic_type\": \"\",\n        \"description\": \"\"\n      }\n    },\n    {\n      \"column\": \"n_tilde\",\n      \"properties\": {\n        \"dtype\": \"number\",\n        \"std\": 32826.159501430084,\n        \"min\": 0.0,\n        \"max\": 92848.0,\n        \"num_unique_values\": 5,\n        \"samples\": [\n          0.022833017404790625,\n          11.0,\n          0.18206301299075633\n        ],\n        \"semantic_type\": \"\",\n        \"description\": \"\"\n      }\n    },\n    {\n      \"column\": \"n_comma\",\n      \"properties\": {\n        \"dtype\": \"number\",\n        \"std\": 32825.54902300876,\n        \"min\": 0.0,\n        \"max\": 92848.0,\n        \"num_unique_values\": 5,\n        \"samples\": [\n          0.0122350508357746,\n          23.0,\n          0.2945266498011573\n        ],\n        \"semantic_type\": \"\",\n        \"description\": \"\"\n      }\n    },\n    {\n      \"column\": \"n_plus\",\n      \"properties\": {\n        \"dtype\": \"number\",\n        \"std\": 32824.13696613898,\n        \"min\": 0.0,\n        \"max\": 92848.0,\n        \"num_unique_values\": 5,\n        \"samples\": [\n          0.2092775288643805,\n          50.0,\n          1.1268798709379901\n        ],\n        \"semantic_type\": \"\",\n        \"description\": \"\"\n      }\n    },\n    {\n      \"column\": \"n_asterisk\",\n      \"properties\": {\n        \"dtype\": \"number\",\n        \"std\": 32823.68454480805,\n        \"min\": 0.0,\n        \"max\": 92848.0,\n        \"num_unique_values\": 5,\n        \"samples\": [\n          0.008099259003963468,\n          60.0,\n          0.3267013305466454\n        ],\n        \"semantic_type\": \"\",\n        \"description\": \"\"\n      }\n    },\n    {\n      \"column\": \"n_hastag\",\n      \"properties\": {\n        \"dtype\": \"number\",\n        \"std\": 32819.063728462526,\n        \"min\": 0.0,\n        \"max\": 92848.0,\n        \"num_unique_values\": 5,\n        \"samples\": [\n          0.013495174909529555,\n          152.0,\n          0.5284468694690393\n        ],\n        \"semantic_type\": \"\",\n        \"description\": \"\"\n      }\n    },\n    {\n      \"column\": \"n_dollar\",\n      \"properties\": {\n        \"dtype\": \"number\",\n        \"std\": 32825.152394332305,\n        \"min\": 0.0,\n        \"max\": 92848.0,\n        \"num_unique_values\": 5,\n        \"samples\": [\n          0.004900482509047044,\n          31.0,\n          0.17067945799559592\n        ],\n        \"semantic_type\": \"\",\n        \"description\": \"\"\n      }\n    },\n    {\n      \"column\": \"n_percent\",\n      \"properties\": {\n        \"dtype\": \"number\",\n        \"std\": 32817.80577958322,\n        \"min\": 0.0,\n        \"max\": 92848.0,\n        \"num_unique_values\": 5,\n        \"samples\": [\n          0.5021325176632776,\n          174.0,\n          3.2043024059372844\n        ],\n        \"semantic_type\": \"\",\n        \"description\": \"\"\n      }\n    },\n    {\n      \"column\": \"phishing\",\n      \"properties\": {\n        \"dtype\": \"number\",\n        \"std\": 32826.57938442442,\n        \"min\": 0.0,\n        \"max\": 92848.0,\n        \"num_unique_values\": 5,\n        \"samples\": [\n          0.3978007065311046,\n          1.0,\n          0.4894465083364006\n        ],\n        \"semantic_type\": \"\",\n        \"description\": \"\"\n      }\n    }\n  ]\n}",
       "type": "dataframe"
      },
      "text/html": [
       "\n",
       "  <div id=\"df-53da5f2b-301f-4356-b0fb-a5d110265b3f\" class=\"colab-df-container\">\n",
       "    <div>\n",
       "<style scoped>\n",
       "    .dataframe tbody tr th:only-of-type {\n",
       "        vertical-align: middle;\n",
       "    }\n",
       "\n",
       "    .dataframe tbody tr th {\n",
       "        vertical-align: top;\n",
       "    }\n",
       "\n",
       "    .dataframe thead th {\n",
       "        text-align: right;\n",
       "    }\n",
       "</style>\n",
       "<table border=\"1\" class=\"dataframe\">\n",
       "  <thead>\n",
       "    <tr style=\"text-align: right;\">\n",
       "      <th></th>\n",
       "      <th>url_length</th>\n",
       "      <th>n_dots</th>\n",
       "      <th>n_hypens</th>\n",
       "      <th>n_underline</th>\n",
       "      <th>n_slash</th>\n",
       "      <th>n_questionmark</th>\n",
       "      <th>n_equal</th>\n",
       "      <th>n_at</th>\n",
       "      <th>n_and</th>\n",
       "      <th>n_exclamation</th>\n",
       "      <th>n_space</th>\n",
       "      <th>n_tilde</th>\n",
       "      <th>n_comma</th>\n",
       "      <th>n_plus</th>\n",
       "      <th>n_asterisk</th>\n",
       "      <th>n_hastag</th>\n",
       "      <th>n_dollar</th>\n",
       "      <th>n_percent</th>\n",
       "      <th>phishing</th>\n",
       "    </tr>\n",
       "  </thead>\n",
       "  <tbody>\n",
       "    <tr>\n",
       "      <th>count</th>\n",
       "      <td>92848.000000</td>\n",
       "      <td>92848.000000</td>\n",
       "      <td>92848.000000</td>\n",
       "      <td>92848.000000</td>\n",
       "      <td>92848.000000</td>\n",
       "      <td>92848.000000</td>\n",
       "      <td>92848.000000</td>\n",
       "      <td>92848.000000</td>\n",
       "      <td>92848.000000</td>\n",
       "      <td>92848.000000</td>\n",
       "      <td>92848.000000</td>\n",
       "      <td>92848.000000</td>\n",
       "      <td>92848.000000</td>\n",
       "      <td>92848.000000</td>\n",
       "      <td>92848.000000</td>\n",
       "      <td>92848.000000</td>\n",
       "      <td>92848.000000</td>\n",
       "      <td>92848.000000</td>\n",
       "      <td>92848.000000</td>\n",
       "    </tr>\n",
       "    <tr>\n",
       "      <th>mean</th>\n",
       "      <td>99.629147</td>\n",
       "      <td>3.276829</td>\n",
       "      <td>2.390832</td>\n",
       "      <td>1.022402</td>\n",
       "      <td>4.934237</td>\n",
       "      <td>0.358909</td>\n",
       "      <td>0.894042</td>\n",
       "      <td>0.056199</td>\n",
       "      <td>0.591095</td>\n",
       "      <td>0.008541</td>\n",
       "      <td>0.007205</td>\n",
       "      <td>0.022833</td>\n",
       "      <td>0.012235</td>\n",
       "      <td>0.209278</td>\n",
       "      <td>0.008099</td>\n",
       "      <td>0.013495</td>\n",
       "      <td>0.004900</td>\n",
       "      <td>0.502133</td>\n",
       "      <td>0.397801</td>\n",
       "    </tr>\n",
       "    <tr>\n",
       "      <th>std</th>\n",
       "      <td>84.554420</td>\n",
       "      <td>2.217307</td>\n",
       "      <td>4.321632</td>\n",
       "      <td>2.503486</td>\n",
       "      <td>2.498243</td>\n",
       "      <td>0.803101</td>\n",
       "      <td>2.218987</td>\n",
       "      <td>0.346676</td>\n",
       "      <td>1.830242</td>\n",
       "      <td>0.145227</td>\n",
       "      <td>0.162382</td>\n",
       "      <td>0.182063</td>\n",
       "      <td>0.294527</td>\n",
       "      <td>1.126880</td>\n",
       "      <td>0.326701</td>\n",
       "      <td>0.528447</td>\n",
       "      <td>0.170679</td>\n",
       "      <td>3.204302</td>\n",
       "      <td>0.489447</td>\n",
       "    </tr>\n",
       "    <tr>\n",
       "      <th>min</th>\n",
       "      <td>4.000000</td>\n",
       "      <td>0.000000</td>\n",
       "      <td>0.000000</td>\n",
       "      <td>0.000000</td>\n",
       "      <td>0.000000</td>\n",
       "      <td>0.000000</td>\n",
       "      <td>0.000000</td>\n",
       "      <td>0.000000</td>\n",
       "      <td>0.000000</td>\n",
       "      <td>0.000000</td>\n",
       "      <td>0.000000</td>\n",
       "      <td>0.000000</td>\n",
       "      <td>0.000000</td>\n",
       "      <td>0.000000</td>\n",
       "      <td>0.000000</td>\n",
       "      <td>0.000000</td>\n",
       "      <td>0.000000</td>\n",
       "      <td>0.000000</td>\n",
       "      <td>0.000000</td>\n",
       "    </tr>\n",
       "    <tr>\n",
       "      <th>25%</th>\n",
       "      <td>64.000000</td>\n",
       "      <td>2.000000</td>\n",
       "      <td>0.000000</td>\n",
       "      <td>0.000000</td>\n",
       "      <td>3.000000</td>\n",
       "      <td>0.000000</td>\n",
       "      <td>0.000000</td>\n",
       "      <td>0.000000</td>\n",
       "      <td>0.000000</td>\n",
       "      <td>0.000000</td>\n",
       "      <td>0.000000</td>\n",
       "      <td>0.000000</td>\n",
       "      <td>0.000000</td>\n",
       "      <td>0.000000</td>\n",
       "      <td>0.000000</td>\n",
       "      <td>0.000000</td>\n",
       "      <td>0.000000</td>\n",
       "      <td>0.000000</td>\n",
       "      <td>0.000000</td>\n",
       "    </tr>\n",
       "    <tr>\n",
       "      <th>50%</th>\n",
       "      <td>83.000000</td>\n",
       "      <td>3.000000</td>\n",
       "      <td>1.000000</td>\n",
       "      <td>0.000000</td>\n",
       "      <td>5.000000</td>\n",
       "      <td>0.000000</td>\n",
       "      <td>0.000000</td>\n",
       "      <td>0.000000</td>\n",
       "      <td>0.000000</td>\n",
       "      <td>0.000000</td>\n",
       "      <td>0.000000</td>\n",
       "      <td>0.000000</td>\n",
       "      <td>0.000000</td>\n",
       "      <td>0.000000</td>\n",
       "      <td>0.000000</td>\n",
       "      <td>0.000000</td>\n",
       "      <td>0.000000</td>\n",
       "      <td>0.000000</td>\n",
       "      <td>0.000000</td>\n",
       "    </tr>\n",
       "    <tr>\n",
       "      <th>75%</th>\n",
       "      <td>111.000000</td>\n",
       "      <td>4.000000</td>\n",
       "      <td>3.000000</td>\n",
       "      <td>1.000000</td>\n",
       "      <td>6.000000</td>\n",
       "      <td>1.000000</td>\n",
       "      <td>1.000000</td>\n",
       "      <td>0.000000</td>\n",
       "      <td>0.000000</td>\n",
       "      <td>0.000000</td>\n",
       "      <td>0.000000</td>\n",
       "      <td>0.000000</td>\n",
       "      <td>0.000000</td>\n",
       "      <td>0.000000</td>\n",
       "      <td>0.000000</td>\n",
       "      <td>0.000000</td>\n",
       "      <td>0.000000</td>\n",
       "      <td>0.000000</td>\n",
       "      <td>1.000000</td>\n",
       "    </tr>\n",
       "    <tr>\n",
       "      <th>max</th>\n",
       "      <td>6097.000000</td>\n",
       "      <td>99.000000</td>\n",
       "      <td>286.000000</td>\n",
       "      <td>200.000000</td>\n",
       "      <td>68.000000</td>\n",
       "      <td>166.000000</td>\n",
       "      <td>176.000000</td>\n",
       "      <td>43.000000</td>\n",
       "      <td>50.000000</td>\n",
       "      <td>10.000000</td>\n",
       "      <td>18.000000</td>\n",
       "      <td>11.000000</td>\n",
       "      <td>23.000000</td>\n",
       "      <td>50.000000</td>\n",
       "      <td>60.000000</td>\n",
       "      <td>152.000000</td>\n",
       "      <td>31.000000</td>\n",
       "      <td>174.000000</td>\n",
       "      <td>1.000000</td>\n",
       "    </tr>\n",
       "  </tbody>\n",
       "</table>\n",
       "</div>\n",
       "    <div class=\"colab-df-buttons\">\n",
       "\n",
       "  <div class=\"colab-df-container\">\n",
       "    <button class=\"colab-df-convert\" onclick=\"convertToInteractive('df-53da5f2b-301f-4356-b0fb-a5d110265b3f')\"\n",
       "            title=\"Convert this dataframe to an interactive table.\"\n",
       "            style=\"display:none;\">\n",
       "\n",
       "  <svg xmlns=\"http://www.w3.org/2000/svg\" height=\"24px\" viewBox=\"0 -960 960 960\">\n",
       "    <path d=\"M120-120v-720h720v720H120Zm60-500h600v-160H180v160Zm220 220h160v-160H400v160Zm0 220h160v-160H400v160ZM180-400h160v-160H180v160Zm440 0h160v-160H620v160ZM180-180h160v-160H180v160Zm440 0h160v-160H620v160Z\"/>\n",
       "  </svg>\n",
       "    </button>\n",
       "\n",
       "  <style>\n",
       "    .colab-df-container {\n",
       "      display:flex;\n",
       "      gap: 12px;\n",
       "    }\n",
       "\n",
       "    .colab-df-convert {\n",
       "      background-color: #E8F0FE;\n",
       "      border: none;\n",
       "      border-radius: 50%;\n",
       "      cursor: pointer;\n",
       "      display: none;\n",
       "      fill: #1967D2;\n",
       "      height: 32px;\n",
       "      padding: 0 0 0 0;\n",
       "      width: 32px;\n",
       "    }\n",
       "\n",
       "    .colab-df-convert:hover {\n",
       "      background-color: #E2EBFA;\n",
       "      box-shadow: 0px 1px 2px rgba(60, 64, 67, 0.3), 0px 1px 3px 1px rgba(60, 64, 67, 0.15);\n",
       "      fill: #174EA6;\n",
       "    }\n",
       "\n",
       "    .colab-df-buttons div {\n",
       "      margin-bottom: 4px;\n",
       "    }\n",
       "\n",
       "    [theme=dark] .colab-df-convert {\n",
       "      background-color: #3B4455;\n",
       "      fill: #D2E3FC;\n",
       "    }\n",
       "\n",
       "    [theme=dark] .colab-df-convert:hover {\n",
       "      background-color: #434B5C;\n",
       "      box-shadow: 0px 1px 3px 1px rgba(0, 0, 0, 0.15);\n",
       "      filter: drop-shadow(0px 1px 2px rgba(0, 0, 0, 0.3));\n",
       "      fill: #FFFFFF;\n",
       "    }\n",
       "  </style>\n",
       "\n",
       "    <script>\n",
       "      const buttonEl =\n",
       "        document.querySelector('#df-53da5f2b-301f-4356-b0fb-a5d110265b3f button.colab-df-convert');\n",
       "      buttonEl.style.display =\n",
       "        google.colab.kernel.accessAllowed ? 'block' : 'none';\n",
       "\n",
       "      async function convertToInteractive(key) {\n",
       "        const element = document.querySelector('#df-53da5f2b-301f-4356-b0fb-a5d110265b3f');\n",
       "        const dataTable =\n",
       "          await google.colab.kernel.invokeFunction('convertToInteractive',\n",
       "                                                    [key], {});\n",
       "        if (!dataTable) return;\n",
       "\n",
       "        const docLinkHtml = 'Like what you see? Visit the ' +\n",
       "          '<a target=\"_blank\" href=https://colab.research.google.com/notebooks/data_table.ipynb>data table notebook</a>'\n",
       "          + ' to learn more about interactive tables.';\n",
       "        element.innerHTML = '';\n",
       "        dataTable['output_type'] = 'display_data';\n",
       "        await google.colab.output.renderOutput(dataTable, element);\n",
       "        const docLink = document.createElement('div');\n",
       "        docLink.innerHTML = docLinkHtml;\n",
       "        element.appendChild(docLink);\n",
       "      }\n",
       "    </script>\n",
       "  </div>\n",
       "\n",
       "\n",
       "<div id=\"df-d4583968-9b82-4282-942d-458e37394fdf\">\n",
       "  <button class=\"colab-df-quickchart\" onclick=\"quickchart('df-d4583968-9b82-4282-942d-458e37394fdf')\"\n",
       "            title=\"Suggest charts\"\n",
       "            style=\"display:none;\">\n",
       "\n",
       "<svg xmlns=\"http://www.w3.org/2000/svg\" height=\"24px\"viewBox=\"0 0 24 24\"\n",
       "     width=\"24px\">\n",
       "    <g>\n",
       "        <path d=\"M19 3H5c-1.1 0-2 .9-2 2v14c0 1.1.9 2 2 2h14c1.1 0 2-.9 2-2V5c0-1.1-.9-2-2-2zM9 17H7v-7h2v7zm4 0h-2V7h2v10zm4 0h-2v-4h2v4z\"/>\n",
       "    </g>\n",
       "</svg>\n",
       "  </button>\n",
       "\n",
       "<style>\n",
       "  .colab-df-quickchart {\n",
       "      --bg-color: #E8F0FE;\n",
       "      --fill-color: #1967D2;\n",
       "      --hover-bg-color: #E2EBFA;\n",
       "      --hover-fill-color: #174EA6;\n",
       "      --disabled-fill-color: #AAA;\n",
       "      --disabled-bg-color: #DDD;\n",
       "  }\n",
       "\n",
       "  [theme=dark] .colab-df-quickchart {\n",
       "      --bg-color: #3B4455;\n",
       "      --fill-color: #D2E3FC;\n",
       "      --hover-bg-color: #434B5C;\n",
       "      --hover-fill-color: #FFFFFF;\n",
       "      --disabled-bg-color: #3B4455;\n",
       "      --disabled-fill-color: #666;\n",
       "  }\n",
       "\n",
       "  .colab-df-quickchart {\n",
       "    background-color: var(--bg-color);\n",
       "    border: none;\n",
       "    border-radius: 50%;\n",
       "    cursor: pointer;\n",
       "    display: none;\n",
       "    fill: var(--fill-color);\n",
       "    height: 32px;\n",
       "    padding: 0;\n",
       "    width: 32px;\n",
       "  }\n",
       "\n",
       "  .colab-df-quickchart:hover {\n",
       "    background-color: var(--hover-bg-color);\n",
       "    box-shadow: 0 1px 2px rgba(60, 64, 67, 0.3), 0 1px 3px 1px rgba(60, 64, 67, 0.15);\n",
       "    fill: var(--button-hover-fill-color);\n",
       "  }\n",
       "\n",
       "  .colab-df-quickchart-complete:disabled,\n",
       "  .colab-df-quickchart-complete:disabled:hover {\n",
       "    background-color: var(--disabled-bg-color);\n",
       "    fill: var(--disabled-fill-color);\n",
       "    box-shadow: none;\n",
       "  }\n",
       "\n",
       "  .colab-df-spinner {\n",
       "    border: 2px solid var(--fill-color);\n",
       "    border-color: transparent;\n",
       "    border-bottom-color: var(--fill-color);\n",
       "    animation:\n",
       "      spin 1s steps(1) infinite;\n",
       "  }\n",
       "\n",
       "  @keyframes spin {\n",
       "    0% {\n",
       "      border-color: transparent;\n",
       "      border-bottom-color: var(--fill-color);\n",
       "      border-left-color: var(--fill-color);\n",
       "    }\n",
       "    20% {\n",
       "      border-color: transparent;\n",
       "      border-left-color: var(--fill-color);\n",
       "      border-top-color: var(--fill-color);\n",
       "    }\n",
       "    30% {\n",
       "      border-color: transparent;\n",
       "      border-left-color: var(--fill-color);\n",
       "      border-top-color: var(--fill-color);\n",
       "      border-right-color: var(--fill-color);\n",
       "    }\n",
       "    40% {\n",
       "      border-color: transparent;\n",
       "      border-right-color: var(--fill-color);\n",
       "      border-top-color: var(--fill-color);\n",
       "    }\n",
       "    60% {\n",
       "      border-color: transparent;\n",
       "      border-right-color: var(--fill-color);\n",
       "    }\n",
       "    80% {\n",
       "      border-color: transparent;\n",
       "      border-right-color: var(--fill-color);\n",
       "      border-bottom-color: var(--fill-color);\n",
       "    }\n",
       "    90% {\n",
       "      border-color: transparent;\n",
       "      border-bottom-color: var(--fill-color);\n",
       "    }\n",
       "  }\n",
       "</style>\n",
       "\n",
       "  <script>\n",
       "    async function quickchart(key) {\n",
       "      const quickchartButtonEl =\n",
       "        document.querySelector('#' + key + ' button');\n",
       "      quickchartButtonEl.disabled = true;  // To prevent multiple clicks.\n",
       "      quickchartButtonEl.classList.add('colab-df-spinner');\n",
       "      try {\n",
       "        const charts = await google.colab.kernel.invokeFunction(\n",
       "            'suggestCharts', [key], {});\n",
       "      } catch (error) {\n",
       "        console.error('Error during call to suggestCharts:', error);\n",
       "      }\n",
       "      quickchartButtonEl.classList.remove('colab-df-spinner');\n",
       "      quickchartButtonEl.classList.add('colab-df-quickchart-complete');\n",
       "    }\n",
       "    (() => {\n",
       "      let quickchartButtonEl =\n",
       "        document.querySelector('#df-d4583968-9b82-4282-942d-458e37394fdf button');\n",
       "      quickchartButtonEl.style.display =\n",
       "        google.colab.kernel.accessAllowed ? 'block' : 'none';\n",
       "    })();\n",
       "  </script>\n",
       "</div>\n",
       "\n",
       "    </div>\n",
       "  </div>\n"
      ],
      "text/plain": [
       "         url_length        n_dots      n_hypens   n_underline       n_slash  \\\n",
       "count  92848.000000  92848.000000  92848.000000  92848.000000  92848.000000   \n",
       "mean      99.629147      3.276829      2.390832      1.022402      4.934237   \n",
       "std       84.554420      2.217307      4.321632      2.503486      2.498243   \n",
       "min        4.000000      0.000000      0.000000      0.000000      0.000000   \n",
       "25%       64.000000      2.000000      0.000000      0.000000      3.000000   \n",
       "50%       83.000000      3.000000      1.000000      0.000000      5.000000   \n",
       "75%      111.000000      4.000000      3.000000      1.000000      6.000000   \n",
       "max     6097.000000     99.000000    286.000000    200.000000     68.000000   \n",
       "\n",
       "       n_questionmark       n_equal          n_at         n_and  \\\n",
       "count    92848.000000  92848.000000  92848.000000  92848.000000   \n",
       "mean         0.358909      0.894042      0.056199      0.591095   \n",
       "std          0.803101      2.218987      0.346676      1.830242   \n",
       "min          0.000000      0.000000      0.000000      0.000000   \n",
       "25%          0.000000      0.000000      0.000000      0.000000   \n",
       "50%          0.000000      0.000000      0.000000      0.000000   \n",
       "75%          1.000000      1.000000      0.000000      0.000000   \n",
       "max        166.000000    176.000000     43.000000     50.000000   \n",
       "\n",
       "       n_exclamation       n_space       n_tilde       n_comma        n_plus  \\\n",
       "count   92848.000000  92848.000000  92848.000000  92848.000000  92848.000000   \n",
       "mean        0.008541      0.007205      0.022833      0.012235      0.209278   \n",
       "std         0.145227      0.162382      0.182063      0.294527      1.126880   \n",
       "min         0.000000      0.000000      0.000000      0.000000      0.000000   \n",
       "25%         0.000000      0.000000      0.000000      0.000000      0.000000   \n",
       "50%         0.000000      0.000000      0.000000      0.000000      0.000000   \n",
       "75%         0.000000      0.000000      0.000000      0.000000      0.000000   \n",
       "max        10.000000     18.000000     11.000000     23.000000     50.000000   \n",
       "\n",
       "         n_asterisk      n_hastag      n_dollar     n_percent      phishing  \n",
       "count  92848.000000  92848.000000  92848.000000  92848.000000  92848.000000  \n",
       "mean       0.008099      0.013495      0.004900      0.502133      0.397801  \n",
       "std        0.326701      0.528447      0.170679      3.204302      0.489447  \n",
       "min        0.000000      0.000000      0.000000      0.000000      0.000000  \n",
       "25%        0.000000      0.000000      0.000000      0.000000      0.000000  \n",
       "50%        0.000000      0.000000      0.000000      0.000000      0.000000  \n",
       "75%        0.000000      0.000000      0.000000      0.000000      1.000000  \n",
       "max       60.000000    152.000000     31.000000    174.000000      1.000000  "
      ]
     },
     "execution_count": 4,
     "metadata": {},
     "output_type": "execute_result"
    }
   ],
   "source": [
    "#dfWebPh.head()\n",
    "\n",
    "#dfWebPh.info()\n",
    "\n",
    "dfWebPh.describe()\n",
    "\n",
    "#print(list(dfWebPh))"
   ]
  },
  {
   "cell_type": "markdown",
   "metadata": {
    "id": "EApMbbxGxx9D"
   },
   "source": [
    "Entrenamiento y Test del Modelo con LinearSVC"
   ]
  },
  {
   "cell_type": "code",
   "execution_count": null,
   "metadata": {
    "colab": {
     "base_uri": "https://localhost:8080/"
    },
    "executionInfo": {
     "elapsed": 5846,
     "status": "ok",
     "timestamp": 1730764686124,
     "user": {
      "displayName": "Facundo Gainski",
      "userId": "01373646427527657958"
     },
     "user_tz": 180
    },
    "id": "V_vnc9Rv4ck3",
    "outputId": "859cce90-4db5-46c0-ed6f-12a0f6f2559d"
   },
   "outputs": [
    {
     "name": "stdout",
     "output_type": "stream",
     "text": [
      "Accuracy: 0.674744211093161\n",
      "Confusion Matrix: [[4904  672]\n",
      " [2348 1361]]\n",
      "0.66 accuracy with a standard deviation of 0.05\n"
     ]
    }
   ],
   "source": [
    "#Separo DataSet en Etiquetas y columna de Clases (0 good / 1 bad)\n",
    "feature_cols = ['url_length', 'n_dots', 'n_hypens', 'n_underline', 'n_slash', 'n_questionmark', 'n_equal', 'n_at', 'n_and', 'n_exclamation', 'n_space', 'n_tilde', 'n_comma', 'n_plus', 'n_asterisk', 'n_hastag', 'n_dollar', 'n_percent']\n",
    "X = dfWebPh[feature_cols] # Etiquetas\n",
    "y = dfWebPh.phishing # Clases\n",
    "\n",
    "# Separo data set para pruebas en entrenamiento y test\n",
    "X_train, X_test, y_train, y_test = train_test_split(X, y, test_size=0.1, random_state=1) # 70% training and 30% test\n",
    "\n",
    "\n",
    "LSVC = LinearSVC(C=3000, max_iter=1500)\n",
    "\n",
    "LSVC.fit(X_train, y_train)\n",
    "y_pred = LSVC.predict(X_test)\n",
    "\n",
    "\n",
    "print(\"Accuracy:\",metrics.accuracy_score(y_test, y_pred))\n",
    "\n",
    "\n",
    "#print(\"Classification Report:\",metrics.classification_report(y_test, y_pred))\n",
    "print(\"Confusion Matrix:\",metrics.confusion_matrix(y_test, y_pred))\n",
    "\n",
    "scores = cross_val_score(LSVC, X, y, cv=5)\n",
    "\n",
    "print(\"%0.2f accuracy with a standard deviation of %0.2f\" % (scores.mean(), scores.std()))\n",
    "\n",
    "#LSVCTEST = LinearSVC()\n",
    "\n",
    "#param_grid = {'C': [1, 10, 100, 1000, 2000, 3000]}\n",
    "\n",
    "#grid_search = GridSearchCV(LSVC, param_grid, cv=5)\n",
    "\n",
    "#grid_search.fit(X_train, y_train)\n",
    "\n",
    "#print(grid_search.best_params_)\n",
    "#print(grid_search.best_score_)\n",
    "\n",
    "\n",
    "\n",
    "\n",
    "\n"
   ]
  },
  {
   "cell_type": "markdown",
   "metadata": {
    "id": "7nVRaKTPGCQk"
   },
   "source": [
    "Multinomial Naive Bayes SE USA ESTE"
   ]
  },
  {
   "cell_type": "code",
   "execution_count": 1,
   "metadata": {
    "colab": {
     "base_uri": "https://localhost:8080/"
    },
    "executionInfo": {
     "elapsed": 1712,
     "status": "ok",
     "timestamp": 1730764691243,
     "user": {
      "displayName": "Facundo Gainski",
      "userId": "01373646427527657958"
     },
     "user_tz": 180
    },
    "id": "6O508YdzGBmP",
    "outputId": "3e12672e-ddf1-4680-8a43-45c240ca6e3f"
   },
   "outputs": [
    {
     "ename": "NameError",
     "evalue": "name 'dfWebPh' is not defined",
     "output_type": "error",
     "traceback": [
      "\u001b[1;31m---------------------------------------------------------------------------\u001b[0m",
      "\u001b[1;31mNameError\u001b[0m                                 Traceback (most recent call last)",
      "Cell \u001b[1;32mIn[1], line 3\u001b[0m\n\u001b[0;32m      1\u001b[0m \u001b[38;5;66;03m#Separo DataSet en Etiquetas y columna de Clases (0 good / 1 bad)\u001b[39;00m\n\u001b[0;32m      2\u001b[0m feature_cols \u001b[38;5;241m=\u001b[39m [\u001b[38;5;124m'\u001b[39m\u001b[38;5;124murl_length\u001b[39m\u001b[38;5;124m'\u001b[39m, \u001b[38;5;124m'\u001b[39m\u001b[38;5;124mn_dots\u001b[39m\u001b[38;5;124m'\u001b[39m, \u001b[38;5;124m'\u001b[39m\u001b[38;5;124mn_hypens\u001b[39m\u001b[38;5;124m'\u001b[39m, \u001b[38;5;124m'\u001b[39m\u001b[38;5;124mn_underline\u001b[39m\u001b[38;5;124m'\u001b[39m, \u001b[38;5;124m'\u001b[39m\u001b[38;5;124mn_slash\u001b[39m\u001b[38;5;124m'\u001b[39m, \u001b[38;5;124m'\u001b[39m\u001b[38;5;124mn_questionmark\u001b[39m\u001b[38;5;124m'\u001b[39m, \u001b[38;5;124m'\u001b[39m\u001b[38;5;124mn_equal\u001b[39m\u001b[38;5;124m'\u001b[39m, \u001b[38;5;124m'\u001b[39m\u001b[38;5;124mn_at\u001b[39m\u001b[38;5;124m'\u001b[39m, \u001b[38;5;124m'\u001b[39m\u001b[38;5;124mn_and\u001b[39m\u001b[38;5;124m'\u001b[39m, \u001b[38;5;124m'\u001b[39m\u001b[38;5;124mn_exclamation\u001b[39m\u001b[38;5;124m'\u001b[39m, \u001b[38;5;124m'\u001b[39m\u001b[38;5;124mn_space\u001b[39m\u001b[38;5;124m'\u001b[39m, \u001b[38;5;124m'\u001b[39m\u001b[38;5;124mn_tilde\u001b[39m\u001b[38;5;124m'\u001b[39m, \u001b[38;5;124m'\u001b[39m\u001b[38;5;124mn_comma\u001b[39m\u001b[38;5;124m'\u001b[39m, \u001b[38;5;124m'\u001b[39m\u001b[38;5;124mn_plus\u001b[39m\u001b[38;5;124m'\u001b[39m, \u001b[38;5;124m'\u001b[39m\u001b[38;5;124mn_asterisk\u001b[39m\u001b[38;5;124m'\u001b[39m, \u001b[38;5;124m'\u001b[39m\u001b[38;5;124mn_hastag\u001b[39m\u001b[38;5;124m'\u001b[39m, \u001b[38;5;124m'\u001b[39m\u001b[38;5;124mn_dollar\u001b[39m\u001b[38;5;124m'\u001b[39m, \u001b[38;5;124m'\u001b[39m\u001b[38;5;124mn_percent\u001b[39m\u001b[38;5;124m'\u001b[39m]\n\u001b[1;32m----> 3\u001b[0m X \u001b[38;5;241m=\u001b[39m \u001b[43mdfWebPh\u001b[49m[feature_cols] \u001b[38;5;66;03m# Etiquetas\u001b[39;00m\n\u001b[0;32m      4\u001b[0m y \u001b[38;5;241m=\u001b[39m dfWebPh\u001b[38;5;241m.\u001b[39mphishing \u001b[38;5;66;03m# Clases\u001b[39;00m\n\u001b[0;32m      6\u001b[0m \u001b[38;5;66;03m# Separo data set para pruebas en entrenamiento y test\u001b[39;00m\n",
      "\u001b[1;31mNameError\u001b[0m: name 'dfWebPh' is not defined"
     ]
    }
   ],
   "source": [
    "#Separo DataSet en Etiquetas y columna de Clases (0 good / 1 bad)\n",
    "feature_cols = ['url_length', 'n_dots', 'n_hypens', 'n_underline', 'n_slash', 'n_questionmark', 'n_equal', 'n_at', 'n_and', 'n_exclamation', 'n_space', 'n_tilde', 'n_comma', 'n_plus', 'n_asterisk', 'n_hastag', 'n_dollar', 'n_percent']\n",
    "X = dfWebPh[feature_cols] # Etiquetas\n",
    "y = dfWebPh.phishing # Clases\n",
    "\n",
    "# Separo data set para pruebas en entrenamiento y test\n",
    "X_train, X_test, y_train, y_test = train_test_split(X, y, test_size=0.1, random_state=1) # 70% training and 30% test\n",
    "\n",
    "\n",
    "MLNB = MultinomialNB()\n",
    "\n",
    "MLNB.fit(X_train, y_train)\n",
    "y_pred = MLNB.predict(X_test)\n",
    "\n",
    "\n",
    "print(\"Accuracy:\",metrics.accuracy_score(y_test, y_pred))\n",
    "\n",
    "\n",
    "#print(\"Classification Report:\",metrics.classification_report(y_test, y_pred))\n",
    "print(\"Confusion Matrix:\",metrics.confusion_matrix(y_test, y_pred))\n",
    "\n",
    "scores = cross_val_score(MLNB, X, y, cv=5)\n",
    "\n",
    "print(\"%0.2f accuracy with a standard deviation of %0.2f\" % (scores.mean(), scores.std()))\n",
    "\n",
    "scores = cross_val_score(MLNB, X, y, cv=5, scoring='f1')\n",
    "\n",
    "print(\"%0.2f f1 with a standard deviation of %0.2f\" % (scores.mean(), scores.std()))\n",
    "\n",
    "scores = cross_val_score(MLNB, X, y, cv=5, scoring='recall')\n",
    "\n",
    "print(\"%0.2f recall with a standard deviation of %0.2f\" % (scores.mean(), scores.std()))\n",
    "\n"
   ]
  },
  {
   "cell_type": "code",
   "execution_count": null,
   "metadata": {
    "colab": {
     "base_uri": "https://localhost:8080/"
    },
    "executionInfo": {
     "elapsed": 502,
     "status": "ok",
     "timestamp": 1730764693569,
     "user": {
      "displayName": "Facundo Gainski",
      "userId": "01373646427527657958"
     },
     "user_tz": 180
    },
    "id": "scLdJ-KVHray",
    "outputId": "ffd506d3-3e35-4f50-b4be-6c728e058322"
   },
   "outputs": [
    {
     "name": "stdout",
     "output_type": "stream",
     "text": [
      "Accuracy: 0.6439777418775803\n",
      "Confusion Matrix: [[15943   874]\n",
      " [ 9043  1995]]\n",
      "0.64 accuracy with a standard deviation of 0.03\n"
     ]
    }
   ],
   "source": [
    "#Separo DataSet en Etiquetas y columna de Clases (0 good / 1 bad)\n",
    "feature_cols = ['url_length', 'n_dots', 'n_hypens', 'n_underline', 'n_slash', 'n_questionmark', 'n_equal', 'n_at', 'n_and', 'n_exclamation', 'n_space', 'n_tilde', 'n_comma', 'n_plus', 'n_asterisk', 'n_hastag', 'n_dollar', 'n_percent']\n",
    "X = dfWebPh[feature_cols] # Etiquetas\n",
    "y = dfWebPh.phishing # Clases\n",
    "\n",
    "# Separo data set para pruebas en entrenamiento y test\n",
    "X_train, X_test, y_train, y_test = train_test_split(X, y, test_size=0.3, random_state=1) # 70% training and 30% test\n",
    "\n",
    "\n",
    "MLNB = GaussianNB()\n",
    "\n",
    "MLNB.fit(X_train, y_train)\n",
    "y_pred = MLNB.predict(X_test)\n",
    "\n",
    "\n",
    "print(\"Accuracy:\",metrics.accuracy_score(y_test, y_pred))\n",
    "\n",
    "\n",
    "#print(\"Classification Report:\",metrics.classification_report(y_test, y_pred))\n",
    "print(\"Confusion Matrix:\",metrics.confusion_matrix(y_test, y_pred))\n",
    "\n",
    "scores = cross_val_score(MLNB, X, y, cv=5)\n",
    "\n",
    "print(\"%0.2f accuracy with a standard deviation of %0.2f\" % (scores.mean(), scores.std()))"
   ]
  },
  {
   "cell_type": "code",
   "execution_count": null,
   "metadata": {
    "colab": {
     "base_uri": "https://localhost:8080/"
    },
    "executionInfo": {
     "elapsed": 510,
     "status": "ok",
     "timestamp": 1730764695618,
     "user": {
      "displayName": "Facundo Gainski",
      "userId": "01373646427527657958"
     },
     "user_tz": 180
    },
    "id": "E_PMqS3JIO-s",
    "outputId": "d41f5ac3-834f-46c4-9e35-8451c004ba0d"
   },
   "outputs": [
    {
     "name": "stdout",
     "output_type": "stream",
     "text": [
      "Accuracy: 0.6675641716029438\n",
      "Confusion Matrix: [[10708  6109]\n",
      " [ 3151  7887]]\n",
      "0.66 accuracy with a standard deviation of 0.06\n"
     ]
    }
   ],
   "source": [
    "#Separo DataSet en Etiquetas y columna de Clases (0 good / 1 bad)\n",
    "feature_cols = ['url_length', 'n_dots', 'n_hypens', 'n_underline', 'n_slash', 'n_questionmark', 'n_equal', 'n_at', 'n_and', 'n_exclamation', 'n_space', 'n_tilde', 'n_comma', 'n_plus', 'n_asterisk', 'n_hastag', 'n_dollar', 'n_percent']\n",
    "X = dfWebPh[feature_cols] # Etiquetas\n",
    "y = dfWebPh.phishing # Clases\n",
    "\n",
    "# Separo data set para pruebas en entrenamiento y test\n",
    "X_train, X_test, y_train, y_test = train_test_split(X, y, test_size=0.3, random_state=1) # 70% training and 30% test\n",
    "\n",
    "\n",
    "CLNB = ComplementNB()\n",
    "\n",
    "CLNB.fit(X_train, y_train)\n",
    "y_pred = CLNB.predict(X_test)\n",
    "\n",
    "\n",
    "print(\"Accuracy:\",metrics.accuracy_score(y_test, y_pred))\n",
    "\n",
    "\n",
    "#print(\"Classification Report:\",metrics.classification_report(y_test, y_pred))\n",
    "print(\"Confusion Matrix:\",metrics.confusion_matrix(y_test, y_pred))\n",
    "\n",
    "scores = cross_val_score(CLNB, X, y, cv=5)\n",
    "\n",
    "print(\"%0.2f accuracy with a standard deviation of %0.2f\" % (scores.mean(), scores.std()))"
   ]
  },
  {
   "cell_type": "markdown",
   "metadata": {
    "id": "EPyQ1Gyq6aoC"
   },
   "source": [
    "PRUEBA SGDC CLASSIFIER"
   ]
  },
  {
   "cell_type": "code",
   "execution_count": null,
   "metadata": {
    "colab": {
     "base_uri": "https://localhost:8080/"
    },
    "executionInfo": {
     "elapsed": 12220,
     "status": "ok",
     "timestamp": 1730764709373,
     "user": {
      "displayName": "Facundo Gainski",
      "userId": "01373646427527657958"
     },
     "user_tz": 180
    },
    "id": "Nn2PEyeZx7S9",
    "outputId": "6521dc21-440e-4890-adb8-296aa63bc50d"
   },
   "outputs": [
    {
     "name": "stdout",
     "output_type": "stream",
     "text": [
      "Accuracy: 0.6149344821396517\n",
      "Confusion Matrix: [[16683   134]\n",
      " [10592   446]]\n",
      "0.55 accuracy with a standard deviation of 0.07\n"
     ]
    }
   ],
   "source": [
    "#Separo DataSet en Etiquetas y columna de Clases (0 good / 1 bad)\n",
    "feature_cols = ['url_length', 'n_dots', 'n_hypens', 'n_underline', 'n_slash', 'n_questionmark', 'n_equal', 'n_at', 'n_and', 'n_exclamation', 'n_space', 'n_tilde', 'n_comma', 'n_plus', 'n_asterisk', 'n_hastag', 'n_dollar', 'n_percent']\n",
    "X = dfWebPh[feature_cols] # Etiquetas\n",
    "y = dfWebPh.phishing # Clases\n",
    "\n",
    "# Separo data set para pruebas en entrenamiento y test\n",
    "X_train, X_test, y_train, y_test = train_test_split(X, y, test_size=0.3, random_state=1) # 70% training and 30% test\n",
    "\n",
    "SGDC = SGDClassifier(loss=\"hinge\", penalty=\"l2\", max_iter=1000, alpha = 0.0000001)\n",
    "SGDC.fit(X_train, y_train)\n",
    "y_pred = SGDC.predict(X_test)\n",
    "\n",
    "\n",
    "print(\"Accuracy:\",metrics.accuracy_score(y_test, y_pred))\n",
    "#print(\"Classification Report:\",metrics.classification_report(y_test, y_pred))\n",
    "print(\"Confusion Matrix:\",metrics.confusion_matrix(y_test, y_pred))\n",
    "\n",
    "scores = cross_val_score(SGDC, X, y, cv=5)\n",
    "\n",
    "print(\"%0.2f accuracy with a standard deviation of %0.2f\" % (scores.mean(), scores.std()))\n",
    "\n"
   ]
  },
  {
   "cell_type": "markdown",
   "metadata": {
    "id": "MZ5WBCxR6fao"
   },
   "source": [
    "PRUEBA REGRESIÓN LOGÍSTICA"
   ]
  },
  {
   "cell_type": "code",
   "execution_count": null,
   "metadata": {
    "colab": {
     "base_uri": "https://localhost:8080/"
    },
    "executionInfo": {
     "elapsed": 65394,
     "status": "ok",
     "timestamp": 1730764776694,
     "user": {
      "displayName": "Facundo Gainski",
      "userId": "01373646427527657958"
     },
     "user_tz": 180
    },
    "id": "8tZ_7-VL_4_e",
    "outputId": "7b204fa3-0852-4517-ad2e-fad0cdc0d83f"
   },
   "outputs": [
    {
     "name": "stdout",
     "output_type": "stream",
     "text": [
      "Accuracy: 0.6893914916532041\n",
      "Confusion Matrix: [[4741  835]\n",
      " [2049 1660]]\n",
      "0.67 accuracy with a standard deviation of 0.05\n"
     ]
    }
   ],
   "source": [
    "#Separo DataSet en Etiquetas y columna de Clases (0 good / 1 bad)\n",
    "feature_cols = ['url_length', 'n_dots', 'n_hypens', 'n_underline', 'n_slash', 'n_questionmark', 'n_equal', 'n_at', 'n_and', 'n_exclamation', 'n_space', 'n_tilde', 'n_comma', 'n_plus', 'n_asterisk', 'n_hastag', 'n_dollar', 'n_percent']\n",
    "X = dfWebPh[feature_cols] # Etiquetas\n",
    "y = dfWebPh.phishing # Clases\n",
    "\n",
    "# Separo data set para pruebas en entrenamiento y test\n",
    "X_train, X_test, y_train, y_test = train_test_split(X, y, test_size=0.1, random_state=1) # 70% training and 30% test\n",
    "\n",
    "\n",
    "LR = LogisticRegression(max_iter=3000, C = 3.0)\n",
    "\n",
    "LR.fit(X_train, y_train)\n",
    "y_pred = LR.predict(X_test)\n",
    "\n",
    "\n",
    "print(\"Accuracy:\",metrics.accuracy_score(y_test, y_pred))\n",
    "\n",
    "\n",
    "#print(\"Classification Report:\",metrics.classification_report(y_test, y_pred))\n",
    "print(\"Confusion Matrix:\",metrics.confusion_matrix(y_test, y_pred))\n",
    "\n",
    "scores = cross_val_score(LR, X, y, cv=5)\n",
    "\n",
    "print(\"%0.2f accuracy with a standard deviation of %0.2f\" % (scores.mean(), scores.std()))"
   ]
  },
  {
   "cell_type": "markdown",
   "metadata": {
    "id": "9m-yrxQo6kkv"
   },
   "source": [
    "PRUEBA SGDC CLASSIFIER CON GRIDSEARCH\n",
    "\n",
    "\n"
   ]
  },
  {
   "cell_type": "code",
   "execution_count": null,
   "metadata": {
    "colab": {
     "base_uri": "https://localhost:8080/",
     "height": 373
    },
    "executionInfo": {
     "elapsed": 285,
     "status": "error",
     "timestamp": 1730765087263,
     "user": {
      "displayName": "Facundo Gainski",
      "userId": "01373646427527657958"
     },
     "user_tz": 180
    },
    "id": "ysCJhMWd5Yji",
    "outputId": "e519f130-9aed-43c6-a10b-00c9adf448cb"
   },
   "outputs": [
    {
     "ename": "KeyError",
     "evalue": "\"['n_redirection'] not in index\"",
     "output_type": "error",
     "traceback": [
      "\u001b[0;31m---------------------------------------------------------------------------\u001b[0m",
      "\u001b[0;31mKeyError\u001b[0m                                  Traceback (most recent call last)",
      "\u001b[0;32m<ipython-input-23-8e32f6adc59a>\u001b[0m in \u001b[0;36m<cell line: 3>\u001b[0;34m()\u001b[0m\n\u001b[1;32m      1\u001b[0m \u001b[0;31m#Separo DataSet en Etiquetas y columna de Clases (0 good / 1 bad)\u001b[0m\u001b[0;34m\u001b[0m\u001b[0;34m\u001b[0m\u001b[0m\n\u001b[1;32m      2\u001b[0m \u001b[0mfeature_cols\u001b[0m \u001b[0;34m=\u001b[0m \u001b[0;34m[\u001b[0m\u001b[0;34m'url_length'\u001b[0m\u001b[0;34m,\u001b[0m \u001b[0;34m'n_dots'\u001b[0m\u001b[0;34m,\u001b[0m \u001b[0;34m'n_hypens'\u001b[0m\u001b[0;34m,\u001b[0m \u001b[0;34m'n_underline'\u001b[0m\u001b[0;34m,\u001b[0m \u001b[0;34m'n_slash'\u001b[0m\u001b[0;34m,\u001b[0m \u001b[0;34m'n_questionmark'\u001b[0m\u001b[0;34m,\u001b[0m \u001b[0;34m'n_equal'\u001b[0m\u001b[0;34m,\u001b[0m \u001b[0;34m'n_at'\u001b[0m\u001b[0;34m,\u001b[0m \u001b[0;34m'n_and'\u001b[0m\u001b[0;34m,\u001b[0m \u001b[0;34m'n_exclamation'\u001b[0m\u001b[0;34m,\u001b[0m \u001b[0;34m'n_space'\u001b[0m\u001b[0;34m,\u001b[0m \u001b[0;34m'n_tilde'\u001b[0m\u001b[0;34m,\u001b[0m \u001b[0;34m'n_comma'\u001b[0m\u001b[0;34m,\u001b[0m \u001b[0;34m'n_plus'\u001b[0m\u001b[0;34m,\u001b[0m \u001b[0;34m'n_asterisk'\u001b[0m\u001b[0;34m,\u001b[0m \u001b[0;34m'n_hastag'\u001b[0m\u001b[0;34m,\u001b[0m \u001b[0;34m'n_dollar'\u001b[0m\u001b[0;34m,\u001b[0m \u001b[0;34m'n_percent'\u001b[0m\u001b[0;34m,\u001b[0m \u001b[0;34m'n_redirection'\u001b[0m\u001b[0;34m]\u001b[0m\u001b[0;34m\u001b[0m\u001b[0;34m\u001b[0m\u001b[0m\n\u001b[0;32m----> 3\u001b[0;31m \u001b[0mX\u001b[0m \u001b[0;34m=\u001b[0m \u001b[0mdfWebPh\u001b[0m\u001b[0;34m[\u001b[0m\u001b[0mfeature_cols\u001b[0m\u001b[0;34m]\u001b[0m \u001b[0;31m# Etiquetas\u001b[0m\u001b[0;34m\u001b[0m\u001b[0;34m\u001b[0m\u001b[0m\n\u001b[0m\u001b[1;32m      4\u001b[0m \u001b[0my\u001b[0m \u001b[0;34m=\u001b[0m \u001b[0mdfWebPh\u001b[0m\u001b[0;34m.\u001b[0m\u001b[0mphishing\u001b[0m \u001b[0;31m# Clases\u001b[0m\u001b[0;34m\u001b[0m\u001b[0;34m\u001b[0m\u001b[0m\n\u001b[1;32m      5\u001b[0m \u001b[0;34m\u001b[0m\u001b[0m\n",
      "\u001b[0;32m/usr/local/lib/python3.10/dist-packages/pandas/core/frame.py\u001b[0m in \u001b[0;36m__getitem__\u001b[0;34m(self, key)\u001b[0m\n\u001b[1;32m   4106\u001b[0m             \u001b[0;32mif\u001b[0m \u001b[0mis_iterator\u001b[0m\u001b[0;34m(\u001b[0m\u001b[0mkey\u001b[0m\u001b[0;34m)\u001b[0m\u001b[0;34m:\u001b[0m\u001b[0;34m\u001b[0m\u001b[0;34m\u001b[0m\u001b[0m\n\u001b[1;32m   4107\u001b[0m                 \u001b[0mkey\u001b[0m \u001b[0;34m=\u001b[0m \u001b[0mlist\u001b[0m\u001b[0;34m(\u001b[0m\u001b[0mkey\u001b[0m\u001b[0;34m)\u001b[0m\u001b[0;34m\u001b[0m\u001b[0;34m\u001b[0m\u001b[0m\n\u001b[0;32m-> 4108\u001b[0;31m             \u001b[0mindexer\u001b[0m \u001b[0;34m=\u001b[0m \u001b[0mself\u001b[0m\u001b[0;34m.\u001b[0m\u001b[0mcolumns\u001b[0m\u001b[0;34m.\u001b[0m\u001b[0m_get_indexer_strict\u001b[0m\u001b[0;34m(\u001b[0m\u001b[0mkey\u001b[0m\u001b[0;34m,\u001b[0m \u001b[0;34m\"columns\"\u001b[0m\u001b[0;34m)\u001b[0m\u001b[0;34m[\u001b[0m\u001b[0;36m1\u001b[0m\u001b[0;34m]\u001b[0m\u001b[0;34m\u001b[0m\u001b[0;34m\u001b[0m\u001b[0m\n\u001b[0m\u001b[1;32m   4109\u001b[0m \u001b[0;34m\u001b[0m\u001b[0m\n\u001b[1;32m   4110\u001b[0m         \u001b[0;31m# take() does not accept boolean indexers\u001b[0m\u001b[0;34m\u001b[0m\u001b[0;34m\u001b[0m\u001b[0m\n",
      "\u001b[0;32m/usr/local/lib/python3.10/dist-packages/pandas/core/indexes/base.py\u001b[0m in \u001b[0;36m_get_indexer_strict\u001b[0;34m(self, key, axis_name)\u001b[0m\n\u001b[1;32m   6198\u001b[0m             \u001b[0mkeyarr\u001b[0m\u001b[0;34m,\u001b[0m \u001b[0mindexer\u001b[0m\u001b[0;34m,\u001b[0m \u001b[0mnew_indexer\u001b[0m \u001b[0;34m=\u001b[0m \u001b[0mself\u001b[0m\u001b[0;34m.\u001b[0m\u001b[0m_reindex_non_unique\u001b[0m\u001b[0;34m(\u001b[0m\u001b[0mkeyarr\u001b[0m\u001b[0;34m)\u001b[0m\u001b[0;34m\u001b[0m\u001b[0;34m\u001b[0m\u001b[0m\n\u001b[1;32m   6199\u001b[0m \u001b[0;34m\u001b[0m\u001b[0m\n\u001b[0;32m-> 6200\u001b[0;31m         \u001b[0mself\u001b[0m\u001b[0;34m.\u001b[0m\u001b[0m_raise_if_missing\u001b[0m\u001b[0;34m(\u001b[0m\u001b[0mkeyarr\u001b[0m\u001b[0;34m,\u001b[0m \u001b[0mindexer\u001b[0m\u001b[0;34m,\u001b[0m \u001b[0maxis_name\u001b[0m\u001b[0;34m)\u001b[0m\u001b[0;34m\u001b[0m\u001b[0;34m\u001b[0m\u001b[0m\n\u001b[0m\u001b[1;32m   6201\u001b[0m \u001b[0;34m\u001b[0m\u001b[0m\n\u001b[1;32m   6202\u001b[0m         \u001b[0mkeyarr\u001b[0m \u001b[0;34m=\u001b[0m \u001b[0mself\u001b[0m\u001b[0;34m.\u001b[0m\u001b[0mtake\u001b[0m\u001b[0;34m(\u001b[0m\u001b[0mindexer\u001b[0m\u001b[0;34m)\u001b[0m\u001b[0;34m\u001b[0m\u001b[0;34m\u001b[0m\u001b[0m\n",
      "\u001b[0;32m/usr/local/lib/python3.10/dist-packages/pandas/core/indexes/base.py\u001b[0m in \u001b[0;36m_raise_if_missing\u001b[0;34m(self, key, indexer, axis_name)\u001b[0m\n\u001b[1;32m   6250\u001b[0m \u001b[0;34m\u001b[0m\u001b[0m\n\u001b[1;32m   6251\u001b[0m             \u001b[0mnot_found\u001b[0m \u001b[0;34m=\u001b[0m \u001b[0mlist\u001b[0m\u001b[0;34m(\u001b[0m\u001b[0mensure_index\u001b[0m\u001b[0;34m(\u001b[0m\u001b[0mkey\u001b[0m\u001b[0;34m)\u001b[0m\u001b[0;34m[\u001b[0m\u001b[0mmissing_mask\u001b[0m\u001b[0;34m.\u001b[0m\u001b[0mnonzero\u001b[0m\u001b[0;34m(\u001b[0m\u001b[0;34m)\u001b[0m\u001b[0;34m[\u001b[0m\u001b[0;36m0\u001b[0m\u001b[0;34m]\u001b[0m\u001b[0;34m]\u001b[0m\u001b[0;34m.\u001b[0m\u001b[0munique\u001b[0m\u001b[0;34m(\u001b[0m\u001b[0;34m)\u001b[0m\u001b[0;34m)\u001b[0m\u001b[0;34m\u001b[0m\u001b[0;34m\u001b[0m\u001b[0m\n\u001b[0;32m-> 6252\u001b[0;31m             \u001b[0;32mraise\u001b[0m \u001b[0mKeyError\u001b[0m\u001b[0;34m(\u001b[0m\u001b[0;34mf\"{not_found} not in index\"\u001b[0m\u001b[0;34m)\u001b[0m\u001b[0;34m\u001b[0m\u001b[0;34m\u001b[0m\u001b[0m\n\u001b[0m\u001b[1;32m   6253\u001b[0m \u001b[0;34m\u001b[0m\u001b[0m\n\u001b[1;32m   6254\u001b[0m     \u001b[0;34m@\u001b[0m\u001b[0moverload\u001b[0m\u001b[0;34m\u001b[0m\u001b[0;34m\u001b[0m\u001b[0m\n",
      "\u001b[0;31mKeyError\u001b[0m: \"['n_redirection'] not in index\""
     ]
    }
   ],
   "source": [
    "#Separo DataSet en Etiquetas y columna de Clases (0 good / 1 bad)\n",
    "feature_cols = ['url_length', 'n_dots', 'n_hypens', 'n_underline', 'n_slash', 'n_questionmark', 'n_equal', 'n_at', 'n_and', 'n_exclamation', 'n_space', 'n_tilde', 'n_comma', 'n_plus', 'n_asterisk', 'n_hastag', 'n_dollar', 'n_percent', 'n_redirection']\n",
    "X = dfWebPh[feature_cols] # Etiquetas\n",
    "y = dfWebPh.phishing # Clases\n",
    "\n",
    "# Separo data set para pruebas en entrenamiento y test\n",
    "X_train, X_test, y_train, y_test = train_test_split(X, y, test_size=0.1, random_state=1) # 70% training and 30% test\n",
    "\n",
    "SGDC = SGDClassifier()\n",
    "\n",
    "sgdc_params = {\n",
    "    'loss':['hinge'],\n",
    "    'penalty':['elasticnet', 'l2'],\n",
    "    'n_iter':[150, 250, 500, 1000, 2000, 3000],\n",
    "    'alpha':np.logspace(-4, 4, 10),\n",
    "    'l1_ratio':[0.05,0.06,0.07,0.08,0.09,0.1,0.12,0.13,0.14,0.15,0.2]\n",
    "}\n",
    "\n",
    "\n",
    "sgdc_gs = GridSearchCV(SGDC, sgdc_params, cv=5, verbose=1, n_jobs=1)\n",
    "\n",
    "print(sgdc_gs.get_params())\n",
    "\n",
    "#sgdc_gs.fit(X_train, y_train)\n",
    "#y_pred = sgdc_gs.predict(X_test)\n",
    "\n",
    "\n",
    "#print(\"Accuracy:\",metrics.accuracy_score(y_test, y_pred))\n",
    "\n"
   ]
  },
  {
   "cell_type": "code",
   "execution_count": null,
   "metadata": {
    "id": "9jSbCUmKn1sv"
   },
   "outputs": [],
   "source": [
    "@anvil.server.callable\n",
    "def predict_url(file):\n",
    "  with open(file.name, \"wb\") as f:\n",
    "    df = pd.read_csv(f)\n",
    "    df = pd.DataFrame(df)\n",
    "  return(df.columns.values())\n"
   ]
  },
  {
   "cell_type": "code",
   "execution_count": null,
   "metadata": {
    "id": "PloA43eQr1tK"
   },
   "outputs": [],
   "source": [
    "anvil.server.wait_forever()\n"
   ]
  },
  {
   "cell_type": "code",
   "execution_count": 60,
   "metadata": {
    "colab": {
     "base_uri": "https://localhost:8080/"
    },
    "executionInfo": {
     "elapsed": 58776,
     "status": "ok",
     "timestamp": 1730810090236,
     "user": {
      "displayName": "Facundo Gainski",
      "userId": "01373646427527657958"
     },
     "user_tz": 180
    },
    "id": "UCiQjETXA8ja",
    "outputId": "89a830cd-5ef2-4a1b-9831-081bdfa99823"
   },
   "outputs": [
    {
     "name": "stdout",
     "output_type": "stream",
     "text": [
      "Hola\n",
      " * Serving Flask app '__main__'\n",
      " * Debug mode: on\n"
     ]
    },
    {
     "name": "stderr",
     "output_type": "stream",
     "text": [
      "INFO:werkzeug:\u001b[31m\u001b[1mWARNING: This is a development server. Do not use it in a production deployment. Use a production WSGI server instead.\u001b[0m\n",
      " * Running on http://127.0.0.1:5180\n",
      "INFO:werkzeug:\u001b[33mPress CTRL+C to quit\u001b[0m\n",
      "INFO:werkzeug: * Restarting with stat\n"
     ]
    }
   ],
   "source": []
  },
  {
   "cell_type": "code",
   "execution_count": null,
   "metadata": {
    "colab": {
     "base_uri": "https://localhost:8080/"
    },
    "executionInfo": {
     "elapsed": 640,
     "status": "ok",
     "timestamp": 1730807359057,
     "user": {
      "displayName": "Facundo Gainski",
      "userId": "01373646427527657958"
     },
     "user_tz": 180
    },
    "id": "a7SQAPUwTN3B",
    "outputId": "815bd513-b86b-4d5f-c88d-d2a1bb0fbc82"
   },
   "outputs": [
    {
     "name": "stdout",
     "output_type": "stream",
     "text": [
      " * Serving Flask app '__main__'\n",
      " * Debug mode: off\n"
     ]
    },
    {
     "name": "stderr",
     "output_type": "stream",
     "text": [
      "Address already in use\n",
      "Port 5000 is in use by another program. Either identify and stop that program, or start the server with a different port.\n"
     ]
    },
    {
     "name": "stdout",
     "output_type": "stream",
     "text": [
      "API URL: NgrokTunnel: \"https://e961-35-243-244-30.ngrok-free.app\" -> \"http://localhost:5000\"\n"
     ]
    }
   ],
   "source": [
    "from flask import Flask, request, jsonify\n",
    "from pyngrok import ngrok\n",
    "import threading\n",
    "\n",
    "app = Flask(__name__)\n",
    "\n",
    "data_set = pd.read_csv('/content/drive/MyDrive/Ciencia de Datos TPO/DataSets/DataSet_WebPhishing_Final.csv')\n",
    "\n",
    "dfWebPh = pd.DataFrame(data_set)\n",
    "\n",
    "#data_set_classification = pd.read_csv('/content/drive/MyDrive/Ciencia de Datos TPO/DataSets/URL Classification.csv', names=['url', 'category'])\n",
    "\n",
    "#dfWebClassification = pd.DataFrame(data_set_classification)\n",
    "\n",
    "\n",
    "#Separo DataSet en Etiquetas y columna de Clases (0 good / 1 bad)\n",
    "feature_cols = ['url_length', 'n_dots', 'n_hypens', 'n_underline', 'n_slash', 'n_questionmark', 'n_equal', 'n_at', 'n_and', 'n_exclamation', 'n_space', 'n_tilde', 'n_comma', 'n_plus', 'n_asterisk', 'n_hastag', 'n_dollar', 'n_percent']\n",
    "X = dfWebPh[feature_cols] # Etiquetas\n",
    "y = dfWebPh.phishing # Clases\n",
    "\n",
    "\n",
    "MLNB = MultinomialNB()\n",
    "\n",
    "MLNB.fit(X, y)\n",
    "\n",
    "\n",
    "def valueCalc(df):\n",
    "  df['url_length'] = df['url'].str.len()\n",
    "  df['n_dots'] = df['url'].str.count('\\.')\n",
    "  df['n_hypens'] = df['url'].str.count('-')\n",
    "  df['n_underline'] = df['url'].str.count('_')\n",
    "  df['n_slash'] = df['url'].str.count('/')\n",
    "  df['n_questionmark'] = df['url'].str.count('\\?')\n",
    "  df['n_equal'] = df['url'].str.count('=')\n",
    "  df['n_at'] = df['url'].str.count('@')\n",
    "  df['n_and'] = df['url'].str.count('&')\n",
    "  df['n_exclamation'] = df['url'].str.count('!')\n",
    "  df['n_space'] = df['url'].str.count(' ')\n",
    "  df['n_tilde'] = df['url'].str.count('~')\n",
    "  df['n_comma'] = df['url'].str.count(',')\n",
    "  df['n_plus'] =  df['url'].str.count('\\+')\n",
    "  df['n_asterisk'] = df['url'].str.count('\\*')\n",
    "  df['n_hastag'] = df['url'].str.count('#')\n",
    "  df['n_dollar'] = df['url'].str.count('\\$')\n",
    "  df['n_percent'] = df['url'].str.count('%')\n",
    "  df['n_hastag'] = df['url'].str.count('#')\n",
    "\n",
    "  return(df)\n",
    "\n",
    "\n",
    "# Ruta para analizar una URL\n",
    "@anvil.server.callable\n",
    "def predict_LonelyURL(URL):\n",
    "\n",
    "  urlDict = {}\n",
    "  urlDict['url'] = URL\n",
    "  urlDF = pd.DataFrame(urlDict, index=[0])\n",
    "  urlDF = valueCalc(urlDF)\n",
    "\n",
    "  prediction = MLNB.predict(urlDF)\n",
    "\n",
    "  return(prediction)\n",
    "\n",
    "# Ruta para analizar un archivo CSV\n",
    "@anvil.server.callable\n",
    "def predict_GroupURL(text):\n",
    "\n",
    "  csv = text.split('\\n')\n",
    "\n",
    "  i = 0\n",
    "  l = []\n",
    "\n",
    "  for line in csv:\n",
    "    i = i + 1\n",
    "    sepa = line.split(',')\n",
    "    if len(sepa) == 9 :\n",
    "      l.append(sepa[5])\n",
    "\n",
    "  csvDF = pd.DataFrame(l, columns=['url'])\n",
    "\n",
    "  csvDF = csvDF[1:]\n",
    "\n",
    "  df_urlPredict = pd.DataFrame(csvDF)\n",
    "\n",
    "  df_urlPredict = valueCalc(df_urlPredict)\n",
    "\n",
    "  df_urlPredict.drop('url', axis=1, inplace=True)\n",
    "\n",
    "  prediction = MLNB.predict(df_urlPredict)\n",
    "\n",
    "  prediction = pd.DataFrame(prediction, columns=['prediction'])\n",
    "\n",
    "  lVal = []\n",
    "\n",
    "  listaValores = prediction['prediction'].value_counts()\n",
    "\n",
    "  lVal.append(listaValores[0])\n",
    "  lVal.append(listaValores[1])\n",
    "\n",
    "  return(lVal)\n"
   ]
  },
  {
   "cell_type": "code",
   "execution_count": null,
   "metadata": {
    "colab": {
     "base_uri": "https://localhost:8080/",
     "height": 141
    },
    "executionInfo": {
     "elapsed": 251,
     "status": "error",
     "timestamp": 1730764859441,
     "user": {
      "displayName": "Facundo Gainski",
      "userId": "01373646427527657958"
     },
     "user_tz": 180
    },
    "id": "fs8epDQac42k",
    "outputId": "f67b3a78-fc54-4bcb-c6c4-2ae1c150679f"
   },
   "outputs": [
    {
     "ename": "NameError",
     "evalue": "name 'dfWebClassification' is not defined",
     "output_type": "error",
     "traceback": [
      "\u001b[0;31m---------------------------------------------------------------------------\u001b[0m",
      "\u001b[0;31mNameError\u001b[0m                                 Traceback (most recent call last)",
      "\u001b[0;32m<ipython-input-20-ee51814302de>\u001b[0m in \u001b[0;36m<cell line: 1>\u001b[0;34m()\u001b[0m\n\u001b[0;32m----> 1\u001b[0;31m \u001b[0mprint\u001b[0m\u001b[0;34m(\u001b[0m\u001b[0mdfWebClassification\u001b[0m\u001b[0;34m.\u001b[0m\u001b[0mdescribe\u001b[0m\u001b[0;34m(\u001b[0m\u001b[0;34m)\u001b[0m\u001b[0;34m)\u001b[0m\u001b[0;34m\u001b[0m\u001b[0;34m\u001b[0m\u001b[0m\n\u001b[0m",
      "\u001b[0;31mNameError\u001b[0m: name 'dfWebClassification' is not defined"
     ]
    }
   ],
   "source": [
    "print(dfWebClassification.describe())"
   ]
  },
  {
   "cell_type": "code",
   "execution_count": null,
   "metadata": {
    "colab": {
     "base_uri": "https://localhost:8080/",
     "height": 106
    },
    "executionInfo": {
     "elapsed": 245,
     "status": "error",
     "timestamp": 1730764858132,
     "user": {
      "displayName": "Facundo Gainski",
      "userId": "01373646427527657958"
     },
     "user_tz": 180
    },
    "id": "TT-V7VqlwEm3",
    "outputId": "4377111b-fdbe-403b-9fcd-1454350748e2"
   },
   "outputs": [
    {
     "ename": "IndentationError",
     "evalue": "expected an indented block after function definition on line 39 (<ipython-input-19-2ab81cf05b09>, line 41)",
     "output_type": "error",
     "traceback": [
      "\u001b[0;36m  File \u001b[0;32m\"<ipython-input-19-2ab81cf05b09>\"\u001b[0;36m, line \u001b[0;32m41\u001b[0m\n\u001b[0;31m    urlDict = {}\u001b[0m\n\u001b[0m    ^\u001b[0m\n\u001b[0;31mIndentationError\u001b[0m\u001b[0;31m:\u001b[0m expected an indented block after function definition on line 39\n"
     ]
    }
   ],
   "source": [
    "  data_setHIST = pd.read_csv('/content/drive/MyDrive/Ciencia de Datos TPO/DataSets/history.csv')\n",
    "\n",
    "  df_hist = pd.DataFrame(data_setHIST)\n",
    "\n",
    "  print(df_hist.head())\n",
    "\n",
    "  #df_urls['url'] = df_hist.url\n",
    "\n",
    "  #df_urls = pd.DataFrame(df_urls)\n",
    "\n",
    "  #df_urlPredict = df_urls.copy()\n",
    "\n",
    "  #df_urls['cut_index'] = df_urls['url'].str.find('/', 8) + 1\n",
    "\n",
    "  #df_urls['cut_index'] = df_urls['cut_index'].replace(-1, 0)\n",
    "\n",
    "  #df_urls['def_url'] = df_urls['url'].str[:df_urls['cut_index']]\n",
    "\n",
    "  #df_urls.drop('cut_index', axis = 1, inplace=True)\n",
    "\n",
    "  #df_urls.drop('url', inplace=True)\n",
    "\n",
    "  #df_urls.join(dfWebClassification, 'def_url', 'url')\n",
    "\n",
    "  #df_urls = df_urls['category']\n",
    "\n",
    "  #df_urlPredict = valueCalc(df_urlPredict)\n",
    "\n",
    "  #prediction = MLNB.predict(df_urlPredict)\n",
    "\n",
    "  #productDF = pd.DataFrame()\n",
    "\n",
    "  #productDF['category'] = df_urls\n",
    "\n",
    "  #productDF['prediction'] = prediction\n",
    "\n",
    "  #print(productDF.head())\n",
    "\n",
    "def predict_LonelyURLTEST(URL):\n",
    "\n",
    "  urlDict = {}\n",
    "  urlDict['url'] = URL\n",
    "  urlDF = pd.DataFrame(urlDict, index=[0])\n",
    "  urlDF = valueCalc(urlDF)\n",
    "  urlDF.drop('url', axis=1, inplace=True)\n",
    "\n",
    "  prediction = MLNB.predict(urlDF)\n",
    "\n",
    "  return(prediction)"
   ]
  },
  {
   "cell_type": "code",
   "execution_count": null,
   "metadata": {
    "colab": {
     "base_uri": "https://localhost:8080/"
    },
    "executionInfo": {
     "elapsed": 1594,
     "status": "ok",
     "timestamp": 1730764853241,
     "user": {
      "displayName": "Facundo Gainski",
      "userId": "01373646427527657958"
     },
     "user_tz": 180
    },
    "id": "V_mAI3aDsLkX",
    "outputId": "d4c0c315-febf-4fde-f857-c6ce3b1f3515"
   },
   "outputs": [
    {
     "name": "stdout",
     "output_type": "stream",
     "text": [
      "22308\n"
     ]
    }
   ],
   "source": [
    "f = open('/content/drive/MyDrive/Ciencia de Datos TPO/DataSets/history.csv', 'r')\n",
    "\n",
    "text = f.read()\n",
    "\n",
    "csv = text.split('\\n')\n",
    "\n",
    "i = 0\n",
    "l = []\n",
    "\n",
    "for line in csv:\n",
    "  i = i + 1\n",
    "  sepa = line.split(',')\n",
    "  if len(sepa) == 9 :\n",
    "    l.append(sepa[5])\n",
    "\n",
    "\n",
    "csvDF = pd.DataFrame(l, columns=['url'])\n",
    "\n",
    "csvDF = csvDF[1:]\n",
    "\n",
    "#print(csvDF.head())\n",
    "\n",
    "df_urls = pd.DataFrame(csvDF)\n",
    "\n",
    "#print(df_urls.head())\n",
    "\n",
    "df_urlPredict = df_urls.copy()\n",
    "\n",
    "#print(df_urlPredict.head())\n",
    "\n",
    "\n",
    "#df_urls['cut_index'] = df_urls['url'].str.find('/', 8) + 1\n",
    "\n",
    "#df_urls['cut_index'] = df_urls['cut_index'].replace(-1, 0)\n",
    "\n",
    "#df_urls['def_url'] = df_urls.apply(lambda x: x['url'][0:x['cut_index']],axis=1)\n",
    "\n",
    "#df_urls.drop('cut_index', axis = 1, inplace=True)\n",
    "\n",
    "#df_urls.drop('url', axis = 1, inplace=True)\n",
    "\n",
    "#df_urls = df_urls.join(dfWebClassification.set_index('url'), on = 'def_url', how = 'left')\n",
    "\n",
    "#print(df_urls.info())\n",
    "\n",
    "#df_urls.to_csv('/content/drive/MyDrive/Ciencia de Datos TPO/DataSets/PRUEBA.csv', index=False)\n",
    "\n",
    "  #df_urls = df_urls['category']\n",
    "\n",
    "df_urlPredict = valueCalc(df_urlPredict)\n",
    "\n",
    "df_urlPredict.drop('url', axis=1, inplace=True)\n",
    "\n",
    "prediction = MLNB.predict(df_urlPredict)\n",
    "\n",
    "prediction = pd.DataFrame(prediction, columns=['prediction'])\n",
    "\n",
    "#print(prediction.info())\n",
    "\n",
    "lista = prediction['prediction'].value_counts()\n",
    "\n",
    "print(lista[1])\n",
    "\n",
    "\n",
    "\n",
    "\n",
    "  #productDF = pd.DataFrame()\n",
    "\n",
    "  #productDF['category'] = df_urls\n",
    "\n",
    "  #productDF['prediction'] = prediction\n",
    "\n",
    "  #print(productDF.head())\n",
    "\n",
    "\n"
   ]
  }
 ],
 "metadata": {
  "colab": {
   "provenance": []
  },
  "kernelspec": {
   "display_name": "envcd",
   "language": "python",
   "name": "python3"
  },
  "language_info": {
   "codemirror_mode": {
    "name": "ipython",
    "version": 3
   },
   "file_extension": ".py",
   "mimetype": "text/x-python",
   "name": "python",
   "nbconvert_exporter": "python",
   "pygments_lexer": "ipython3",
   "version": "3.12.6"
  }
 },
 "nbformat": 4,
 "nbformat_minor": 0
}
