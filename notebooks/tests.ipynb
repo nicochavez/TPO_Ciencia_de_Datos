{
 "cells": [
  {
   "cell_type": "code",
   "execution_count": null,
   "metadata": {
    "vscode": {
     "languageId": "plaintext"
    }
   },
   "outputs": [],
   "source": [
    "import pandas as pd\n",
    "import numpy as np\n",
    "from sklearn.ensemble import RandomForestClassifier\n",
    "from sklearn.metrics import accuracy_score\n",
    "from Levenshtein import distance as levenshtein_distance\n",
    "\n",
    "# Dataset de URLs confiables\n",
    "trusted_urls = ['youtube.com', 'google.com', 'facebook.com', 'amazon.com', 'wikipedia.org']\n",
    "trusted_df = pd.DataFrame(trusted_urls, columns=['url'])\n",
    "\n",
    "# Función para calcular el mínimo de distancia Levenshtein con URLs confiables\n",
    "def min_levenshtein_distance(url, trusted_urls):\n",
    "    return min([levenshtein_distance(url, trusted_url) for trusted_url in trusted_urls])\n",
    "\n",
    "# Generar un dataset de entrenamiento con URLs maliciosas y confiables\n",
    "data = {\n",
    "    'url': ['youtuve.com', 'g00gle.com', 'amaz0n.com', 'example.com', 'wikipediia.org'],\n",
    "    'label': [1, 1, 1, 0, 1]  # 1 = phishing, 0 = seguro\n",
    "}\n",
    "df = pd.DataFrame(data)\n",
    "\n",
    "# Calcular características adicionales\n",
    "df['levenshtein_min'] = df['url'].apply(lambda x: min_levenshtein_distance(x, trusted_urls))\n",
    "df['special_char_count'] = df['url'].apply(lambda x: sum(not c.isalnum() for c in x))\n",
    "\n",
    "# Separar en características (X) y etiquetas (y)\n",
    "X = df[['levenshtein_min', 'special_char_count']]\n",
    "y = df['label']\n",
    "\n",
    "# Entrenar un modelo de clasificación\n",
    "model = RandomForestClassifier(random_state=0)\n",
    "model.fit(X, y)\n",
    "\n",
    "# Predicción y evaluación\n",
    "y_pred = model.predict(X)\n",
    "accuracy = accuracy_score(y, y_pred)\n",
    "print(f'Accuracy: {accuracy * 100:.2f}%')\n",
    "\n",
    "# Prueba de una URL nueva\n",
    "new_url = 'youtobe.com'\n",
    "new_url_features = {\n",
    "    'levenshtein_min': min_levenshtein_distance(new_url, trusted_urls),\n",
    "    'special_char_count': sum(not c.isalnum() for c in new_url)\n",
    "}\n",
    "\n",
    "new_url_features_df = pd.DataFrame([new_url_features])\n",
    "prediction = model.predict(new_url_features_df)\n",
    "\n",
    "print(f\"La URL '{new_url}' es {'phishing' if prediction[0] == 1 else 'segura'}\")\n"
   ]
  }
 ],
 "metadata": {
  "language_info": {
   "name": "python"
  }
 },
 "nbformat": 4,
 "nbformat_minor": 2
}
